{
  "nbformat": 4,
  "nbformat_minor": 0,
  "metadata": {
    "colab": {
      "provenance": [],
      "authorship_tag": "ABX9TyOBOSxlyLlISNg4uM+pB+WG",
      "include_colab_link": true
    },
    "kernelspec": {
      "name": "python3",
      "display_name": "Python 3"
    },
    "language_info": {
      "name": "python"
    }
  },
  "cells": [
    {
      "cell_type": "markdown",
      "metadata": {
        "id": "view-in-github",
        "colab_type": "text"
      },
      "source": [
        "<a href=\"https://colab.research.google.com/github/Karamalachandan/Python-Assigment/blob/main/Oops_.ipynb\" target=\"_parent\"><img src=\"https://colab.research.google.com/assets/colab-badge.svg\" alt=\"Open In Colab\"/></a>"
      ]
    },
    {
      "cell_type": "markdown",
      "source": [
        "\n",
        "\n",
        "### 1. **What is Object-Oriented Programming (OOP)?**\n",
        "\n",
        "OOP is a programming paradigm based on the concept of **\"objects\"**, which can contain **data** (attributes) and **code** (methods). It helps structure programs so that they are more **modular, reusable, and easier to manage**.\n",
        "\n",
        "---\n",
        "\n",
        "### 2. **What is a class in OOP?**\n",
        "\n",
        "A **class** is a **blueprint** for creating objects. It defines attributes and methods that the created objects (instances) will have.\n",
        "\n",
        "```python\n",
        "class Car:\n",
        "    def __init__(self, brand):\n",
        "        self.brand = brand\n",
        "```\n",
        "\n",
        "---\n",
        "\n",
        "### 3. **What is an object in OOP?**\n",
        "\n",
        "An **object** is an **instance** of a class. It holds actual data and can use the class's methods.\n",
        "\n",
        "```python\n",
        "my_car = Car(\"Toyota\")\n",
        "```\n",
        "\n",
        "---\n",
        "\n",
        "### 4. **Difference between Abstraction and Encapsulation**\n",
        "\n",
        "* **Abstraction** hides complexity by showing only essential features.\n",
        "* **Encapsulation** wraps data and methods together and restricts direct access to some components.\n",
        "\n",
        "> **Abstraction:** What to show.\n",
        "> **Encapsulation:** How to hide it.\n",
        "\n",
        "---\n",
        "\n",
        "### 5. **What are dunder methods in Python?**\n",
        "\n",
        "**Dunder (Double UNDerscore)** methods are special methods with `__name__` format (e.g., `__init__`, `__str__`, etc.). They enable Python's built-in behavior like object construction, printing, addition, etc.\n",
        "\n",
        "---\n",
        "\n",
        "### 6. **Concept of Inheritance in OOP**\n",
        "\n",
        "Inheritance allows a class (child) to inherit methods and properties from another class (parent).\n",
        "\n",
        "```python\n",
        "class Animal:\n",
        "    def speak(self):\n",
        "        print(\"Animal speaks\")\n",
        "\n",
        "class Dog(Animal):\n",
        "    pass\n",
        "\n",
        "d = Dog()\n",
        "d.speak()  # Inherits speak from Animal\n",
        "```\n",
        "\n",
        "---\n",
        "\n",
        "### 7. **What is Polymorphism in OOP?**\n",
        "\n",
        "Polymorphism means using the **same interface for different data types**. For example, different classes may implement the same method in different ways.\n",
        "\n",
        "---\n",
        "\n",
        "### 8. **How is encapsulation achieved in Python?**\n",
        "\n",
        "Encapsulation is achieved using:\n",
        "\n",
        "* Public (`self.name`)\n",
        "* Protected (`self._name`)\n",
        "* Private (`self.__name`) variables and methods.\n",
        "\n",
        "---\n",
        "\n",
        "### 9. **What is a constructor in Python?**\n",
        "\n",
        "The constructor method in Python is `__init__()`. It is automatically called when an object is created.\n",
        "\n",
        "```python\n",
        "class Person:\n",
        "    def __init__(self, name):\n",
        "        self.name = name\n",
        "```\n",
        "\n",
        "---\n",
        "\n",
        "### 10. **What are class and static methods in Python?**\n",
        "\n",
        "* **@classmethod**: Takes `cls` as the first parameter. Used to access class variables.\n",
        "* **@staticmethod**: Doesn’t take `self` or `cls`. It behaves like a normal function inside a class.\n",
        "\n",
        "```python\n",
        "class Example:\n",
        "    @classmethod\n",
        "    def cls_method(cls):\n",
        "        pass\n",
        "\n",
        "    @staticmethod\n",
        "    def static_method():\n",
        "        pass\n",
        "```\n",
        "\n",
        "---\n",
        "\n",
        "### 11. **What is method overloading in Python?**\n",
        "\n",
        "Python doesn't support traditional method overloading. But you can use default arguments or `*args`/`**kwargs`.\n",
        "\n",
        "```python\n",
        "def greet(name=None):\n",
        "    if name:\n",
        "        print(\"Hello\", name)\n",
        "    else:\n",
        "        print(\"Hello\")\n",
        "```\n",
        "\n",
        "---\n",
        "\n",
        "### 12. **What is method overriding in OOP?**\n",
        "\n",
        "When a child class provides a **new implementation** of a method that is already defined in the parent class.\n",
        "\n",
        "---\n",
        "\n",
        "### 13. **What is a property decorator in Python?**\n",
        "\n",
        "`@property` is used to define a method as a property so you can access it like an attribute.\n",
        "\n",
        "```python\n",
        "class Circle:\n",
        "    def __init__(self, radius):\n",
        "        self._radius = radius\n",
        "\n",
        "    @property\n",
        "    def area(self):\n",
        "        return 3.14 * self._radius ** 2\n",
        "```\n",
        "\n",
        "---\n",
        "\n",
        "### 14. **Why is polymorphism important in OOP?**\n",
        "\n",
        "It allows for **flexible and scalable code**, enabling functions to work with different object types through a common interface.\n",
        "\n",
        "---\n",
        "\n",
        "### 15. **What is an abstract class in Python?**\n",
        "\n",
        "An abstract class can't be instantiated directly and is used to define **common methods** that must be implemented by subclasses. Use `abc` module.\n",
        "\n",
        "```python\n",
        "from abc import ABC, abstractmethod\n",
        "\n",
        "class Shape(ABC):\n",
        "    @abstractmethod\n",
        "    def area(self):\n",
        "        pass\n",
        "```\n",
        "\n",
        "---\n",
        "\n",
        "### 16. **What are the advantages of OOP?**\n",
        "\n",
        "* Modularity\n",
        "* Code reusability\n",
        "* Encapsulation\n",
        "* Inheritance\n",
        "* Easier to maintain and debug\n",
        "\n",
        "---\n",
        "\n",
        "### 17. **What is multiple inheritance in Python?**\n",
        "\n",
        "A class can inherit from **more than one parent** class.\n",
        "\n",
        "```python\n",
        "class A:\n",
        "    pass\n",
        "\n",
        "class B:\n",
        "    pass\n",
        "\n",
        "class C(A, B):\n",
        "    pass\n",
        "```\n",
        "\n",
        "---\n",
        "\n",
        "### 18. **Difference between a class variable and an instance variable**\n",
        "\n",
        "* **Class variable**: Shared among all instances (`ClassName.var`)\n",
        "* **Instance variable**: Unique to each object (`self.var`)\n",
        "\n",
        "---\n",
        "\n",
        "### 19. **Purpose of `__str__` and `__repr__` methods in Python**\n",
        "\n",
        "* `__str__`: Readable representation (for users).\n",
        "* `__repr__`: Unambiguous representation (for developers/debugging).\n",
        "\n",
        "---\n",
        "\n",
        "### 20. **Significance of `super()` in Python**\n",
        "\n",
        "`super()` allows access to methods of a parent class, useful in method overriding or multiple inheritance.\n",
        "\n",
        "```python\n",
        "class B(A):\n",
        "    def __init__(self):\n",
        "        super().__init__()\n",
        "```\n",
        "\n",
        "---\n",
        "\n",
        "### 21. **Significance of `__del__` method in Python**\n",
        "\n",
        "It’s a **destructor method** called when an object is deleted or goes out of scope. Use it to clean up resources.\n",
        "\n",
        "---\n",
        "\n",
        "### 22. **Difference between @staticmethod and @classmethod**\n",
        "\n",
        "| Feature       | `@staticmethod`  | `@classmethod`          |\n",
        "| ------------- | ---------------- | ----------------------- |\n",
        "| First arg     | None             | `cls` (class reference) |\n",
        "| Access class? | No               | Yes                     |\n",
        "| Use case      | Utility function | Factory methods         |\n",
        "\n",
        "---\n",
        "\n",
        "### 23. **How does polymorphism work in Python with inheritance?**\n",
        "\n",
        "Through method overriding. Multiple child classes implement the same method differently.\n",
        "\n",
        "---\n",
        "\n",
        "### 24. **What is method chaining in Python OOP?**\n",
        "\n",
        "Calling multiple methods on the same object in a single line by returning `self`.\n",
        "\n",
        "```python\n",
        "class Person:\n",
        "    def set_name(self, name):\n",
        "        self.name = name\n",
        "        return self\n",
        "\n",
        "    def greet(self):\n",
        "        print(f\"Hello {self.name}\")\n",
        "        return self\n",
        "\n",
        "p = Person().set_name(\"Alice\").greet()\n",
        "```\n",
        "\n",
        "---\n",
        "\n",
        "### 25. **Purpose of `__call__` method in Python**\n",
        "\n",
        "Makes an object **callable like a function**.\n",
        "\n",
        "```python\n",
        "class Adder:\n",
        "    def __init__(self, n):\n",
        "        self.n = n\n",
        "\n",
        "    def __call__(self, x):\n",
        "        return self.n + x\n",
        "\n",
        "add5 = Adder(5)\n",
        "print(add5(10))  # Outputs 15\n",
        "```\n",
        "\n"
      ],
      "metadata": {
        "id": "8Mma27-G19OA"
      }
    },
    {
      "cell_type": "markdown",
      "source": [
        "Practical Questions"
      ],
      "metadata": {
        "id": "qWgcyGoc2fRw"
      }
    },
    {
      "cell_type": "code",
      "source": [
        "# 1. Create a parent class Animal with a method speak() that prints a generic message. Create a child class Dog that overrides the speak() method to print \"Bark!\".\n",
        "\n",
        "class Animal:\n",
        "    def speak(self):\n",
        "        print(\"Animal speaks\")\n",
        "\n",
        "class Dog(Animal):\n",
        "    def speak(self):\n",
        "        print(\"Bark!\")\n",
        "\n",
        "dog = Dog()\n",
        "dog.speak()\n",
        "\n"
      ],
      "metadata": {
        "colab": {
          "base_uri": "https://localhost:8080/"
        },
        "id": "igSAL-dm2nNn",
        "outputId": "7ed0a979-cb0c-4fe8-c488-e1cde626bc22"
      },
      "execution_count": 1,
      "outputs": [
        {
          "output_type": "stream",
          "name": "stdout",
          "text": [
            "Bark!\n"
          ]
        }
      ]
    },
    {
      "cell_type": "code",
      "source": [
        "# 2. Write a program to create an abstract class Shape with a method area(). Derive classes Circle and Rectangle from it and implement the area() method in both.\n",
        "from abc import ABC, abstractmethod\n",
        "\n",
        "class Shape(ABC):\n",
        "    @abstractmethod\n",
        "    def area(self):\n",
        "        pass\n",
        "\n",
        "class Circle(Shape):\n",
        "    def __init__(self, radius):\n",
        "        self.radius = radius\n",
        "\n",
        "    def area(self):\n",
        "        return 3.14 * self.radius ** 2\n",
        "\n",
        "class Rectangle(Shape):\n",
        "    def __init__(self, length, width):\n",
        "        self.length = length\n",
        "        self.width = width\n",
        "\n",
        "    def area(self):\n",
        "        return self.length * self.width\n",
        "\n",
        "c = Circle(5)\n",
        "r = Rectangle(4, 6)\n",
        "print(c.area())\n",
        "print(r.area())\n"
      ],
      "metadata": {
        "colab": {
          "base_uri": "https://localhost:8080/"
        },
        "id": "JqUAiDKs3SgK",
        "outputId": "e4f6655c-20af-4af8-8dcc-f1ec17cbed43"
      },
      "execution_count": 2,
      "outputs": [
        {
          "output_type": "stream",
          "name": "stdout",
          "text": [
            "78.5\n",
            "24\n"
          ]
        }
      ]
    },
    {
      "cell_type": "code",
      "source": [
        "# 3. Implement a multi-level inheritance scenario where a class Vehicle has an attribute type. Derive a class Car and further derive a class ElectricCar that adds a battery attribute.\n",
        "class Vehicle:\n",
        "    def __init__(self, type):\n",
        "        self.type = type\n",
        "\n",
        "class Car(Vehicle):\n",
        "    def __init__(self, type, brand):\n",
        "        super().__init__(type)\n",
        "        self.brand = brand\n",
        "\n",
        "class ElectricCar(Car):\n",
        "    def __init__(self, type, brand, battery):\n",
        "        super().__init__(type, brand)\n",
        "        self.battery = battery\n",
        "\n",
        "e = ElectricCar(\"Four-wheeler\", \"Tesla\", \"100 kWh\")\n",
        "print(e.type, e.brand, e.battery)\n"
      ],
      "metadata": {
        "colab": {
          "base_uri": "https://localhost:8080/"
        },
        "id": "aNhmC0mO3eO4",
        "outputId": "517d4761-75e0-4c54-a79e-47a4ee46dfcc"
      },
      "execution_count": 3,
      "outputs": [
        {
          "output_type": "stream",
          "name": "stdout",
          "text": [
            "Four-wheeler Tesla 100 kWh\n"
          ]
        }
      ]
    },
    {
      "cell_type": "code",
      "source": [
        "# 4. Demonstrate polymorphism by creating a base class Bird with a method fly(). Create two derived classes Sparrow and Penguin that override the fly() method.\n",
        "class Bird:\n",
        "    def fly(self):\n",
        "        print(\"Bird is flying\")\n",
        "\n",
        "class Sparrow(Bird):\n",
        "    def fly(self):\n",
        "        print(\"Sparrow flies high\")\n",
        "\n",
        "class Penguin(Bird):\n",
        "    def fly(self):\n",
        "        print(\"Penguins can't fly\")\n",
        "\n",
        "birds = [Sparrow(), Penguin()]\n",
        "for bird in birds:\n",
        "    bird.fly()\n"
      ],
      "metadata": {
        "colab": {
          "base_uri": "https://localhost:8080/"
        },
        "id": "-rm_o_Rw3sJ3",
        "outputId": "2fb277b3-f0af-4ca2-b56a-8a8a68d62dde"
      },
      "execution_count": 4,
      "outputs": [
        {
          "output_type": "stream",
          "name": "stdout",
          "text": [
            "Sparrow flies high\n",
            "Penguins can't fly\n"
          ]
        }
      ]
    },
    {
      "cell_type": "code",
      "source": [
        "# 5. Write a program to demonstrate encapsulation by creating a class BankAccount with private attributes balance and methods to deposit, withdraw, and check balance.\n",
        "class BankAccount:\n",
        "    def __init__(self):\n",
        "        self.__balance = 0\n",
        "\n",
        "    def deposit(self, amount):\n",
        "        self.__balance += amount\n",
        "\n",
        "    def withdraw(self, amount):\n",
        "        if amount <= self.__balance:\n",
        "            self.__balance -= amount\n",
        "        else:\n",
        "            print(\"Insufficient balance\")\n",
        "\n",
        "    def check_balance(self):\n",
        "        return self.__balance\n",
        "\n",
        "acc = BankAccount()\n",
        "acc.deposit(1000)\n",
        "acc.withdraw(500)\n",
        "print(acc.check_balance())\n"
      ],
      "metadata": {
        "colab": {
          "base_uri": "https://localhost:8080/"
        },
        "id": "370VjLjA39za",
        "outputId": "d5a855b8-90a3-42d0-aa1c-45f522720d0e"
      },
      "execution_count": 7,
      "outputs": [
        {
          "output_type": "stream",
          "name": "stdout",
          "text": [
            "500\n"
          ]
        }
      ]
    },
    {
      "cell_type": "code",
      "source": [
        "# 6 .Demonstrate runtime polymorphism using a method play() in a base class Instrument. Derive classes Guitar and Piano that implement their own version of play().\n",
        "class Instrument:\n",
        "    def play(self):\n",
        "        print(\"Playing instrument\")\n",
        "\n",
        "class Guitar(Instrument):\n",
        "    def play(self):\n",
        "        print(\"Strumming the guitar\")\n",
        "\n",
        "class Piano(Instrument):\n",
        "    def play(self):\n",
        "        print(\"Playing the piano\")\n",
        "\n",
        "for instr in [Guitar(), Piano()]:\n",
        "    instr.play()\n"
      ],
      "metadata": {
        "colab": {
          "base_uri": "https://localhost:8080/"
        },
        "id": "FHqTp_h_5FkQ",
        "outputId": "8449d557-30c7-4913-ed13-ed14b233a889"
      },
      "execution_count": 8,
      "outputs": [
        {
          "output_type": "stream",
          "name": "stdout",
          "text": [
            "Strumming the guitar\n",
            "Playing the piano\n"
          ]
        }
      ]
    },
    {
      "cell_type": "code",
      "source": [
        "# 7. Create a class MathOperations with a class method add_numbers() to add two numbers and a static method subtract_numbers() to subtract two numbers.\n",
        "class MathOperations:\n",
        "    @classmethod\n",
        "    def add_numbers(cls, a, b):\n",
        "        return a + b\n",
        "\n",
        "    @staticmethod\n",
        "    def subtract_numbers(a, b):\n",
        "        return a - b\n",
        "\n",
        "print(MathOperations.add_numbers(5, 3))\n",
        "print(MathOperations.subtract_numbers(10, 4))\n",
        "\n"
      ],
      "metadata": {
        "colab": {
          "base_uri": "https://localhost:8080/"
        },
        "id": "Vh_JMTDx5UK3",
        "outputId": "ca386588-d583-4381-b809-ad4d366ff383"
      },
      "execution_count": 10,
      "outputs": [
        {
          "output_type": "stream",
          "name": "stdout",
          "text": [
            "8\n",
            "6\n"
          ]
        }
      ]
    },
    {
      "cell_type": "code",
      "source": [
        "# 8.  Implement a class Person with a class method to count the total number of persons created.\n",
        "class Person:\n",
        "    count = 0\n",
        "\n",
        "    def __init__(self):\n",
        "        Person.count += 1\n",
        "\n",
        "    @classmethod\n",
        "    def get_count(cls):\n",
        "        return cls.count\n",
        "\n",
        "p1 = Person()\n",
        "p2 = Person()\n",
        "print(Person.get_count())\n"
      ],
      "metadata": {
        "colab": {
          "base_uri": "https://localhost:8080/"
        },
        "id": "HYEOX6os5qEy",
        "outputId": "38b8c237-19bd-4fe7-b938-c0c72d830e2c"
      },
      "execution_count": 11,
      "outputs": [
        {
          "output_type": "stream",
          "name": "stdout",
          "text": [
            "2\n"
          ]
        }
      ]
    },
    {
      "cell_type": "code",
      "source": [
        "# 9. Write a class Fraction with attributes numerator and denominator. Override the str method to display the fraction as \"numerator/denominator\".\n",
        "class Fraction:\n",
        "    def __init__(self, numerator, denominator):\n",
        "        self.numerator = numerator\n",
        "        self.denominator = denominator\n",
        "\n",
        "    def __str__(self):\n",
        "        return f\"{self.numerator}/{self.denominator}\"\n",
        "\n",
        "f = Fraction(3, 4)\n",
        "print(f)\n"
      ],
      "metadata": {
        "colab": {
          "base_uri": "https://localhost:8080/"
        },
        "id": "d-PkSvvD5ymQ",
        "outputId": "845a5a1f-1db8-49d1-84fd-ded7ad634f88"
      },
      "execution_count": 12,
      "outputs": [
        {
          "output_type": "stream",
          "name": "stdout",
          "text": [
            "3/4\n"
          ]
        }
      ]
    },
    {
      "cell_type": "code",
      "source": [
        "# 10. Demonstrate operator overloading by creating a class Vector and overriding the add method to add two vectors.\n",
        "class Vector:\n",
        "    def __init__(self, x, y):\n",
        "        self.x = x\n",
        "        self.y = y\n",
        "\n",
        "    def __add__(self, other):\n",
        "        return Vector(self.x + other.x, self.y + other.y)\n",
        "\n",
        "    def __str__(self):\n",
        "        return f\"({self.x}, {self.y})\"\n",
        "\n",
        "v1 = Vector(1, 2)\n",
        "v2 = Vector(3, 4)\n",
        "print(v1 + v2)\n"
      ],
      "metadata": {
        "colab": {
          "base_uri": "https://localhost:8080/"
        },
        "id": "scFFRI7y5_Uq",
        "outputId": "903ca5e3-ceeb-4fcc-a5ef-ea79327e27db"
      },
      "execution_count": 13,
      "outputs": [
        {
          "output_type": "stream",
          "name": "stdout",
          "text": [
            "(4, 6)\n"
          ]
        }
      ]
    },
    {
      "cell_type": "code",
      "source": [
        "# 11. Create a class Person with attributes name and age. Add a method greet() that prints \"Hello, my name is {name} and I am {age} years old.\n",
        "class Person:\n",
        "    def __init__(self, name, age):\n",
        "        self.name = name\n",
        "        self.age = age\n",
        "\n",
        "    def greet(self):\n",
        "        print(f\"Hello, my name is {self.name} and I am {self.age} years old.\")\n",
        "\n",
        "p = Person(\"Alice\", 25)\n",
        "p.greet()\n"
      ],
      "metadata": {
        "colab": {
          "base_uri": "https://localhost:8080/"
        },
        "id": "lUMSspeF6Gcw",
        "outputId": "62f18fa5-5b2b-4cc5-a0ad-58dac809ba2f"
      },
      "execution_count": 14,
      "outputs": [
        {
          "output_type": "stream",
          "name": "stdout",
          "text": [
            "Hello, my name is Alice and I am 25 years old.\n"
          ]
        }
      ]
    },
    {
      "cell_type": "code",
      "source": [
        "# 12. Implement a class Student with attributes name and grades. Create a method average_grade() to compute the average of the grades.\n",
        "class Student:\n",
        "    def __init__(self, name, grades):\n",
        "        self.name = name\n",
        "        self.grades = grades\n",
        "\n",
        "    def average_grade(self):\n",
        "        return sum(self.grades) / len(self.grades)\n",
        "\n",
        "s = Student(\"Bob\", [85, 90, 78])\n",
        "print(s.average_grade())\n"
      ],
      "metadata": {
        "colab": {
          "base_uri": "https://localhost:8080/"
        },
        "id": "4n7GOULb6Oxb",
        "outputId": "5dff74d2-dd79-4d3d-b0b3-c1fb25cf97e0"
      },
      "execution_count": 15,
      "outputs": [
        {
          "output_type": "stream",
          "name": "stdout",
          "text": [
            "84.33333333333333\n"
          ]
        }
      ]
    },
    {
      "cell_type": "code",
      "source": [
        "# 13. Create a class Employee with a method calculate_salary() that computes the salary based on hours worked and hourly rate. Create a derived class Manager that adds a bonus to the salary.\n",
        "class Rectangle:\n",
        "    def set_dimensions(self, length, width):\n",
        "        self.length = length\n",
        "        self.width = width\n",
        "\n",
        "    def area(self):\n",
        "        return self.length * self.width\n",
        "\n",
        "r = Rectangle()\n",
        "r.set_dimensions(5, 4)\n",
        "print(r.area())\n"
      ],
      "metadata": {
        "colab": {
          "base_uri": "https://localhost:8080/"
        },
        "id": "LYawWnQS6XVi",
        "outputId": "86e636bd-3a06-48f2-f532-76d0b8700358"
      },
      "execution_count": 16,
      "outputs": [
        {
          "output_type": "stream",
          "name": "stdout",
          "text": [
            "20\n"
          ]
        }
      ]
    },
    {
      "cell_type": "code",
      "source": [
        "# 14. Create a class Employee with a method calculate_salary() that computes the salary based on hours worked and hourly rate. Create a derived class Manager that adds a bonus to the salary.\n",
        "class Employee:\n",
        "    def calculate_salary(self, hours, rate):\n",
        "        return hours * rate\n",
        "\n",
        "class Manager(Employee):\n",
        "    def calculate_salary(self, hours, rate, bonus):\n",
        "        return super().calculate_salary(hours, rate) + bonus\n",
        "\n",
        "m = Manager()\n",
        "print(m.calculate_salary(40, 50, 5000))\n"
      ],
      "metadata": {
        "colab": {
          "base_uri": "https://localhost:8080/"
        },
        "id": "bNj5726B6w0g",
        "outputId": "be0ad1b9-8930-4236-b4f5-9bdad93bc694"
      },
      "execution_count": 17,
      "outputs": [
        {
          "output_type": "stream",
          "name": "stdout",
          "text": [
            "7000\n"
          ]
        }
      ]
    },
    {
      "cell_type": "code",
      "source": [
        "# 15. Create a class Product with attributes name, price, and quantity. Implement a method total_price() that calculates the total price of the product\n",
        "class Product:\n",
        "    def __init__(self, name, price, quantity):\n",
        "        self.name = name\n",
        "        self.price = price\n",
        "        self.quantity = quantity\n",
        "\n",
        "    def total_price(self):\n",
        "        return self.price * self.quantity\n",
        "\n",
        "p = Product(\"Laptop\", 50000, 2)\n",
        "print(p.total_price())\n"
      ],
      "metadata": {
        "colab": {
          "base_uri": "https://localhost:8080/"
        },
        "id": "fjOdyOfV64Nb",
        "outputId": "bfd5d035-40a1-4e9c-bbe7-7e93e6b33f5a"
      },
      "execution_count": 18,
      "outputs": [
        {
          "output_type": "stream",
          "name": "stdout",
          "text": [
            "100000\n"
          ]
        }
      ]
    },
    {
      "cell_type": "code",
      "source": [
        "# 16. Create a class Animal with an abstract method sound(). Create two derived classes Cow and Sheep that implement the sound() method.\n",
        "from abc import ABC, abstractmethod\n",
        "\n",
        "class Animal(ABC):\n",
        "    @abstractmethod\n",
        "    def sound(self):\n",
        "        pass\n",
        "\n",
        "class Cow(Animal):\n",
        "    def sound(self):\n",
        "        return \"Moo\"\n",
        "\n",
        "class Sheep(Animal):\n",
        "    def sound(self):\n",
        "        return \"Baa\"\n",
        "\n",
        "c = Cow()\n",
        "s = Sheep()\n",
        "print(c.sound())\n",
        "print(s.sound())\n"
      ],
      "metadata": {
        "colab": {
          "base_uri": "https://localhost:8080/"
        },
        "id": "EHvJHQss7Dkm",
        "outputId": "a62df5af-5e7b-46a2-a41b-90a9d91a4095"
      },
      "execution_count": 19,
      "outputs": [
        {
          "output_type": "stream",
          "name": "stdout",
          "text": [
            "Moo\n",
            "Baa\n"
          ]
        }
      ]
    },
    {
      "cell_type": "code",
      "source": [
        "# 17. Create a class Book with attributes title, author, and year_published. Add a method get_book_info() that returns a formatted string with the book's details\n",
        "class Book:\n",
        "    def __init__(self, title, author, year_published):\n",
        "        self.title = title\n",
        "        self.author = author\n",
        "        self.year_published = year_published\n",
        "\n",
        "    def get_book_info(self):\n",
        "        return f\"'{self.title}' by {self.author} ({self.year_published})\"\n",
        "\n",
        "b = Book(\"1984\", \"George Orwell\", 1949)\n",
        "print(b.get_book_info())\n"
      ],
      "metadata": {
        "colab": {
          "base_uri": "https://localhost:8080/"
        },
        "id": "BsjYpiNQ7P8E",
        "outputId": "6d37a1ce-9c39-4cc9-a76a-5a1e69d31847"
      },
      "execution_count": 20,
      "outputs": [
        {
          "output_type": "stream",
          "name": "stdout",
          "text": [
            "'1984' by George Orwell (1949)\n"
          ]
        }
      ]
    },
    {
      "cell_type": "code",
      "source": [
        "# 18. Create a class House with attributes address and price. Create a derived class Mansion that adds an attribute number_of_rooms.\n",
        "class House:\n",
        "    def __init__(self, address, price):\n",
        "        self.address = address\n",
        "        self.price = price\n",
        "\n",
        "class Mansion(House):\n",
        "    def __init__(self, address, price, number_of_rooms):\n",
        "        super().__init__(address, price)\n",
        "        self.number_of_rooms = number_of_rooms\n",
        "\n",
        "m = Mansion(\"123 Elite Lane\", 50000000, 10)\n",
        "print(m.address, m.price, m.number_of_rooms)\n"
      ],
      "metadata": {
        "colab": {
          "base_uri": "https://localhost:8080/"
        },
        "id": "z9h0STJQ7nmg",
        "outputId": "368b7c22-0dd9-45bd-fbf2-96b9405bd418"
      },
      "execution_count": 21,
      "outputs": [
        {
          "output_type": "stream",
          "name": "stdout",
          "text": [
            "123 Elite Lane 50000000 10\n"
          ]
        }
      ]
    }
  ]
}