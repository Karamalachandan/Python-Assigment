{
  "nbformat": 4,
  "nbformat_minor": 0,
  "metadata": {
    "colab": {
      "provenance": [],
      "authorship_tag": "ABX9TyOVVyUG8zRXcvXqoAKeiORV",
      "include_colab_link": true
    },
    "kernelspec": {
      "name": "python3",
      "display_name": "Python 3"
    },
    "language_info": {
      "name": "python"
    }
  },
  "cells": [
    {
      "cell_type": "markdown",
      "metadata": {
        "id": "view-in-github",
        "colab_type": "text"
      },
      "source": [
        "<a href=\"https://colab.research.google.com/github/Karamalachandan/Python-Assigment/blob/main/Files%2C_exceptional_handling%2C_logging_and_memory_management_Assingment.ipynb\" target=\"_parent\"><img src=\"https://colab.research.google.com/assets/colab-badge.svg\" alt=\"Open In Colab\"/></a>"
      ]
    },
    {
      "cell_type": "markdown",
      "source": [
        "\n",
        "### **1. Difference between interpreted and compiled languages**\n",
        "\n",
        "* **Interpreted**: Code is executed line-by-line at runtime (e.g., Python). Slower but flexible for debugging.\n",
        "* **Compiled**: Entire code is translated to machine code before execution (e.g., C++). Faster but needs compilation step.\n",
        "\n",
        "---\n",
        "\n",
        "### **2. Exception handling in Python**\n",
        "\n",
        "A mechanism to detect and respond to runtime errors, preventing program crashes and allowing graceful recovery using `try`, `except`, `else`, and `finally`.\n",
        "\n",
        "---\n",
        "\n",
        "### **3. Purpose of the `finally` block**\n",
        "\n",
        "Always executes regardless of whether an exception occurred, often used for cleanup tasks like closing files or releasing resources.\n",
        "\n",
        "---\n",
        "\n",
        "### **4. Logging in Python**\n",
        "\n",
        "The process of recording runtime information (events, errors, status updates) for debugging, monitoring, or auditing using the `logging` module.\n",
        "\n",
        "---\n",
        "\n",
        "### **5. Significance of `__del__` method**\n",
        "\n",
        "A destructor method called when an object is about to be destroyed. Used for cleanup (though relying solely on it is discouraged).\n",
        "\n",
        "---\n",
        "\n",
        "### **6. Difference between `import` and `from ... import`**\n",
        "\n",
        "* `import module` → Imports the whole module; access with `module.name`.\n",
        "* `from module import name` → Imports specific objects; use directly without prefix.\n",
        "\n",
        "---\n",
        "\n",
        "### **7. Handling multiple exceptions**\n",
        "\n",
        "Use multiple `except` clauses or a single `except (Error1, Error2) as e:` to catch multiple error types.\n",
        "\n",
        "---\n",
        "\n",
        "### **8. Purpose of `with` statement in file handling**\n",
        "\n",
        "Automatically closes the file after the block is executed, even if exceptions occur — ensures resource safety.\n",
        "\n",
        "---\n",
        "\n",
        "### **9. Difference between multithreading and multiprocessing**\n",
        "\n",
        "* **Multithreading**: Multiple threads share the same memory space; good for I/O-bound tasks.\n",
        "* **Multiprocessing**: Multiple processes with separate memory; better for CPU-bound tasks.\n",
        "\n",
        "---\n",
        "\n",
        "### **10. Advantages of using logging**\n",
        "\n",
        "Persistent error tracking, easier debugging, configurable output, better than print statements for production systems.\n",
        "\n",
        "---\n",
        "\n",
        "### **11. Memory management in Python**\n",
        "\n",
        "Python uses automatic memory management with reference counting and garbage collection to allocate/release memory.\n",
        "\n",
        "---\n",
        "\n",
        "### **12. Basic steps in exception handling**\n",
        "\n",
        "1. Identify risky code (inside `try`).\n",
        "2. Catch exceptions (`except`).\n",
        "3. Execute alternative/recovery code.\n",
        "4. (Optional) Run cleanup (`finally` or `with`).\n",
        "\n",
        "---\n",
        "\n",
        "### **13. Why memory management is important**\n",
        "\n",
        "Efficient memory use prevents program slowdowns, memory leaks, and crashes.\n",
        "\n",
        "---\n",
        "\n",
        "### **14. Role of `try` and `except`**\n",
        "\n",
        "`try` contains code that might fail; `except` handles the error gracefully without stopping the program.\n",
        "\n",
        "---\n",
        "\n",
        "### **15. Python's garbage collection**\n",
        "\n",
        "Uses reference counting and a cyclic garbage collector to free unused memory automatically.\n",
        "\n",
        "---\n",
        "\n",
        "### **16. Purpose of `else` block in exception handling**\n",
        "\n",
        "Runs only if no exception occurred in the `try` block.\n",
        "\n",
        "---\n",
        "\n",
        "### **17. Common logging levels in Python**\n",
        "\n",
        "`DEBUG`, `INFO`, `WARNING`, `ERROR`, `CRITICAL`.\n",
        "\n",
        "---\n",
        "\n",
        "### **18. Difference between `os.fork()` and multiprocessing**\n",
        "\n",
        "* `os.fork()` (Unix only) creates a child process directly.\n",
        "* `multiprocessing` module works cross-platform and offers high-level APIs.\n",
        "\n",
        "---\n",
        "\n",
        "### **19. Importance of closing a file**\n",
        "\n",
        "Frees system resources, ensures data is written properly, avoids file corruption.\n",
        "\n",
        "---\n",
        "\n",
        "### **20. Difference between `file.read()` and `file.readline()`**\n",
        "0\n",
        "* `read()` → Reads the whole file or specified bytes.\n",
        "* `readline()` → Reads one line at a time.\n",
        "\n",
        "---\n",
        "\n",
        "### **21. Logging module usage**\n",
        "\n",
        "Used to configure, generate, and manage log messages for applications.\n",
        "\n",
        "---\n",
        "\n",
        "### **22. `os` module in file handling**\n",
        "\n",
        "Performs file and directory operations — e.g., creating, deleting, navigating file paths.\n",
        "\n",
        "---\n",
        "\n",
        "### **23. Challenges in memory management**\n",
        "\n",
        "Circular references, large unused objects, memory fragmentation, and handling objects with different lifetimes.\n",
        "\n",
        "---\n",
        "\n",
        "### **24. Raising an exception manually**\n",
        "\n",
        "Use `raise ExceptionType(\"message\")` to trigger an error intentionally.\n",
        "\n",
        "---\n",
        "\n",
        "### **25. Importance of multithreading**\n",
        "\n",
        "Speeds up I/O-heavy programs, improves responsiveness, and allows concurrent operations.\n",
        "\n",
        "\n"
      ],
      "metadata": {
        "id": "AXR0Hd2snDqO"
      }
    },
    {
      "cell_type": "code",
      "source": [
        "Practical Questions"
      ],
      "metadata": {
        "id": "QAnWoOUOnxag"
      },
      "execution_count": null,
      "outputs": []
    },
    {
      "cell_type": "code",
      "source": [
        "#1. Open a file for writing & write a string\n",
        "with open(\"output.txt\", \"w\") as f:\n",
        "    f.write(\"Hello, Python!\")\n"
      ],
      "metadata": {
        "id": "45QIaD3gn1kA"
      },
      "execution_count": 1,
      "outputs": []
    },
    {
      "cell_type": "code",
      "source": [
        "#2. Read file contents & print each line\n",
        "with open(\"output.txt\", \"r\") as f:\n",
        "    for line in f:\n",
        "        print(line.strip())\n"
      ],
      "metadata": {
        "colab": {
          "base_uri": "https://localhost:8080/"
        },
        "id": "qWky9bRFobi0",
        "outputId": "2d92109a-21a1-48ed-f9d6-4179820eae05"
      },
      "execution_count": 2,
      "outputs": [
        {
          "output_type": "stream",
          "name": "stdout",
          "text": [
            "Hello, Python!\n"
          ]
        }
      ]
    },
    {
      "cell_type": "code",
      "source": [
        "#3. Handle case where file doesn't exist\n",
        "try:\n",
        "    with open(\"missing.txt\", \"r\") as f:\n",
        "        print(f.read())\n",
        "except FileNotFoundError:\n",
        "    print(\"File not found.\")\n"
      ],
      "metadata": {
        "colab": {
          "base_uri": "https://localhost:8080/"
        },
        "id": "FeZCiWDqol_q",
        "outputId": "541ad575-ad39-4c81-d4e6-b438781b67f3"
      },
      "execution_count": 3,
      "outputs": [
        {
          "output_type": "stream",
          "name": "stdout",
          "text": [
            "File not found.\n"
          ]
        }
      ]
    },
    {
      "cell_type": "code",
      "metadata": {
        "colab": {
          "base_uri": "https://localhost:8080/"
        },
        "id": "16049492",
        "outputId": "40142a12-9f37-439d-d728-8458200b7263"
      },
      "source": [
        "#4Create the source file first\n",
        "with open(\"source.txt\", \"w\") as f:\n",
        "    f.write(\"This is the source file content.\")\n",
        "\n",
        "# Now read from source.txt and write to dest.txt\n",
        "with open(\"source.txt\", \"r\") as src, open(\"dest.txt\", \"w\") as dst:\n",
        "    dst.write(src.read())\n",
        "\n",
        "print(\"Content copied from source.txt to dest.txt\")"
      ],
      "execution_count": 5,
      "outputs": [
        {
          "output_type": "stream",
          "name": "stdout",
          "text": [
            "Content copied from source.txt to dest.txt\n"
          ]
        }
      ]
    },
    {
      "cell_type": "code",
      "source": [
        "#5Catch division by zero\n",
        "try:\n",
        "    result = 10 / 0\n",
        "except ZeroDivisionError:\n",
        "    print(\"Cannot divide by zero!\")\n"
      ],
      "metadata": {
        "colab": {
          "base_uri": "https://localhost:8080/"
        },
        "id": "la--IKVTpKqj",
        "outputId": "711e2699-d70e-499a-9afa-ca96e482a1f7"
      },
      "execution_count": 6,
      "outputs": [
        {
          "output_type": "stream",
          "name": "stdout",
          "text": [
            "Cannot divide by zero!\n"
          ]
        }
      ]
    },
    {
      "cell_type": "code",
      "source": [
        "#6. Log error message for division by zero\n",
        "import logging\n",
        "logging.basicConfig(filename=\"errors.log\", level=logging.ERROR)\n",
        "\n",
        "try:\n",
        "    result = 10 / 0\n",
        "except ZeroDivisionError:\n",
        "    logging.error(\"Division by zero attempted!\")\n"
      ],
      "metadata": {
        "colab": {
          "base_uri": "https://localhost:8080/"
        },
        "id": "-bQ5gV-XplTs",
        "outputId": "348e21ab-53e2-4902-a347-271bb31584df"
      },
      "execution_count": 7,
      "outputs": [
        {
          "output_type": "stream",
          "name": "stderr",
          "text": [
            "ERROR:root:Division by zero attempted!\n"
          ]
        }
      ]
    },
    {
      "cell_type": "code",
      "source": [
        "#7. Log INFO, ERROR, WARNING\n",
        "import logging\n",
        "logging.basicConfig(level=logging.DEBUG)\n",
        "\n",
        "logging.info(\"This is an info message\")\n",
        "logging.warning(\"This is a warning\")\n",
        "logging.error(\"This is an error\")\n"
      ],
      "metadata": {
        "colab": {
          "base_uri": "https://localhost:8080/"
        },
        "id": "vb4tS2UJpstW",
        "outputId": "04ddb369-832a-4f38-b49e-10c4ff0d0f93"
      },
      "execution_count": 8,
      "outputs": [
        {
          "output_type": "stream",
          "name": "stderr",
          "text": [
            "WARNING:root:This is a warning\n",
            "ERROR:root:This is an error\n"
          ]
        }
      ]
    },
    {
      "cell_type": "code",
      "source": [
        "#8. Handle file opening error\n",
        "try:\n",
        "    with open(\"file.txt\", \"r\") as f:\n",
        "        print(f.read())\n",
        "except OSError as e:\n",
        "    print(\"File error:\", e)\n"
      ],
      "metadata": {
        "colab": {
          "base_uri": "https://localhost:8080/"
        },
        "id": "eO8_E1-wp3dk",
        "outputId": "e1d76153-7ed5-4375-c4c0-1b7a1baed9c9"
      },
      "execution_count": 9,
      "outputs": [
        {
          "output_type": "stream",
          "name": "stdout",
          "text": [
            "File error: [Errno 2] No such file or directory: 'file.txt'\n"
          ]
        }
      ]
    },
    {
      "cell_type": "code",
      "source": [
        "#9. Read file line-by-line into list\n",
        "with open(\"output.txt\", \"r\") as f:\n",
        "    lines = f.readlines()\n",
        "print(lines)\n"
      ],
      "metadata": {
        "colab": {
          "base_uri": "https://localhost:8080/"
        },
        "id": "NglDtPdzp-nP",
        "outputId": "b84dac6b-4ec9-44b3-e186-488395fe3a9b"
      },
      "execution_count": 10,
      "outputs": [
        {
          "output_type": "stream",
          "name": "stdout",
          "text": [
            "['Hello, Python!']\n"
          ]
        }
      ]
    },
    {
      "cell_type": "code",
      "source": [
        "#10. Append data to an existing file\n",
        "with open(\"output.txt\", \"a\") as f:\n",
        "    f.write(\"\\nAppended line\")\n"
      ],
      "metadata": {
        "id": "-YrTXdY_qGx9"
      },
      "execution_count": 11,
      "outputs": []
    },
    {
      "cell_type": "code",
      "source": [
        "#11. Handle missing dictionary key\n",
        "my_dict = {\"a\": 1, \"b\": 2}\n",
        "try:\n",
        "    value = my_dict[\"c\"]\n",
        "except KeyError:\n",
        "    print(\"Key not found in dictionary\")"
      ],
      "metadata": {
        "colab": {
          "base_uri": "https://localhost:8080/"
        },
        "id": "yaGTbSZVqQlX",
        "outputId": "b2380aa8-73ac-4e4a-fe73-92b0ba460c34"
      },
      "execution_count": 12,
      "outputs": [
        {
          "output_type": "stream",
          "name": "stdout",
          "text": [
            "Key not found in dictionary\n"
          ]
        }
      ]
    },
    {
      "cell_type": "code",
      "source": [
        "#12. Multiple except blocks\n",
        "try:\n",
        "    value = 10 / 0\n",
        "except ZeroDivisionError:\n",
        "    print(\"Cannot divide by zero!\")\n",
        "except ValueError:\n",
        "    print(\"Invalid value\")"
      ],
      "metadata": {
        "colab": {
          "base_uri": "https://localhost:8080/"
        },
        "id": "6RXrb3YmqV1K",
        "outputId": "650c7420-47e3-43d8-c443-a6af0237f448"
      },
      "execution_count": 13,
      "outputs": [
        {
          "output_type": "stream",
          "name": "stdout",
          "text": [
            "Cannot divide by zero!\n"
          ]
        }
      ]
    },
    {
      "cell_type": "code",
      "source": [
        "#13. Check if file exists before reading\n",
        "import os\n",
        "if os.path.exists(\"output.txt\"):\n",
        "    with open(\"output.txt\") as f:\n",
        "        print(f.read())\n",
        "else:\n",
        "    print(\"File does not exist.\")\n"
      ],
      "metadata": {
        "colab": {
          "base_uri": "https://localhost:8080/"
        },
        "id": "6OgHPICBqcbg",
        "outputId": "1671c9dd-3049-4838-cbfc-231a48bc0547"
      },
      "execution_count": 14,
      "outputs": [
        {
          "output_type": "stream",
          "name": "stdout",
          "text": [
            "Hello, Python!\n",
            "Appended line\n"
          ]
        }
      ]
    },
    {
      "cell_type": "code",
      "source": [
        "#14. Log info & error messages\n",
        "import logging\n",
        "logging.basicConfig(filename=\"app.log\", level=logging.DEBUG)\n",
        "logging.info(\"Application started\")\n",
        "logging.error(\"An error occurred\")\n"
      ],
      "metadata": {
        "colab": {
          "base_uri": "https://localhost:8080/"
        },
        "id": "97NZGWtCqjdL",
        "outputId": "985277df-5dc6-401b-e2c3-13031992fd44"
      },
      "execution_count": 15,
      "outputs": [
        {
          "output_type": "stream",
          "name": "stderr",
          "text": [
            "ERROR:root:An error occurred\n"
          ]
        }
      ]
    },
    {
      "cell_type": "code",
      "source": [
        "#15. Print file & handle empty file\n",
        "with open(\"output.txt\", \"r\") as f:\n",
        "    content = f.read()\n",
        "    if content.strip():\n",
        "        print(content)\n",
        "    else:\n",
        "        print(\"File is empty\")\n"
      ],
      "metadata": {
        "colab": {
          "base_uri": "https://localhost:8080/"
        },
        "id": "bt7R86tkqt1N",
        "outputId": "d5ea1240-520e-47f4-ed4c-e3480d04e909"
      },
      "execution_count": 16,
      "outputs": [
        {
          "output_type": "stream",
          "name": "stdout",
          "text": [
            "Hello, Python!\n",
            "Appended line\n"
          ]
        }
      ]
    },
    {
      "cell_type": "code",
      "source": [
        "#16. Memory profiling\n",
        "%pip install memory-profiler\n"
      ],
      "metadata": {
        "colab": {
          "base_uri": "https://localhost:8080/"
        },
        "id": "oI3J5EIwq2hw",
        "outputId": "768ccc08-bbbb-435f-ba6e-fcf16b47f7e2"
      },
      "execution_count": 20,
      "outputs": [
        {
          "output_type": "stream",
          "name": "stdout",
          "text": [
            "Requirement already satisfied: memory-profiler in /usr/local/lib/python3.11/dist-packages (0.61.0)\n",
            "Requirement already satisfied: psutil in /usr/local/lib/python3.11/dist-packages (from memory-profiler) (5.9.5)\n"
          ]
        }
      ]
    },
    {
      "cell_type": "code",
      "metadata": {
        "id": "a78b6762"
      },
      "source": [
        "#17. Write list of numbers to file\n",
        "numbers = [1, 2, 3, 4, 5]\n",
        "with open(\"numbers.txt\", \"w\") as f:\n",
        "    for num in numbers:\n",
        "        f.write(str(num) + \"\\n\")\n"
      ],
      "execution_count": 21,
      "outputs": []
    },
    {
      "cell_type": "code",
      "source": [
        "#18. Logging with rotation (1MB)\n",
        "import logging\n",
        "from logging.handlers import RotatingFileHandler\n",
        "\n",
        "handler = RotatingFileHandler(\"rotating.log\", maxBytes=1_000_000, backupCount=3)\n",
        "logging.basicConfig(handlers=[handler], level=logging.INFO)\n",
        "logging.info(\"Logging with rotation!\")\n"
      ],
      "metadata": {
        "id": "RkmbG-curZ16"
      },
      "execution_count": 22,
      "outputs": []
    },
    {
      "cell_type": "code",
      "source": [
        "#19. Handle IndexError & KeyError\n",
        "my_list = [1, 2, 3]\n",
        "try:\n",
        "    value = my_list[3]\n",
        "except IndexError:\n",
        "    print(\"Index out of range\")"
      ],
      "metadata": {
        "colab": {
          "base_uri": "https://localhost:8080/"
        },
        "id": "lmCUJlpRrnEq",
        "outputId": "26e18c2e-459a-49d7-cde8-8117e40fbc8e"
      },
      "execution_count": 23,
      "outputs": [
        {
          "output_type": "stream",
          "name": "stdout",
          "text": [
            "Index out of range\n"
          ]
        }
      ]
    },
    {
      "cell_type": "code",
      "source": [
        "#20. Read file with context manager\n",
        "with open(\"output.txt\", \"r\") as f:\n",
        "    print(f.read())"
      ],
      "metadata": {
        "colab": {
          "base_uri": "https://localhost:8080/"
        },
        "id": "8t4Bmg8xrsxu",
        "outputId": "0ff1e282-6937-4b41-9073-6f7ff44a925f"
      },
      "execution_count": 24,
      "outputs": [
        {
          "output_type": "stream",
          "name": "stdout",
          "text": [
            "Hello, Python!\n",
            "Appended line\n"
          ]
        }
      ]
    },
    {
      "cell_type": "code",
      "source": [
        "#21. Count occurrences of a word\n",
        "word = \"Python\"\n",
        "with open(\"output.txt\", \"r\") as f:\n",
        "    content = f.read()\n",
        "count = content.count(word)\n",
        "print(f\"{word} occurs {count} times\")\n"
      ],
      "metadata": {
        "colab": {
          "base_uri": "https://localhost:8080/"
        },
        "id": "7Mr4jYxQrzX2",
        "outputId": "81827979-c04f-4e36-b3c4-8dd68e0be5ab"
      },
      "execution_count": 25,
      "outputs": [
        {
          "output_type": "stream",
          "name": "stdout",
          "text": [
            "Python occurs 1 times\n"
          ]
        }
      ]
    },
    {
      "cell_type": "code",
      "source": [
        "#22. Check if file is empty\n",
        "with open(\"output.txt\", \"r\") as f:\n",
        "    content = f.read()\n",
        "    if not content.strip():\n",
        "        print(\"File is empty\")\n",
        "    else:\n",
        "        print(\"File is not empty\")"
      ],
      "metadata": {
        "colab": {
          "base_uri": "https://localhost:8080/"
        },
        "id": "_1tH3dDhr4_J",
        "outputId": "6e41bc79-9449-4687-bf0e-784ee2a96234"
      },
      "execution_count": 26,
      "outputs": [
        {
          "output_type": "stream",
          "name": "stdout",
          "text": [
            "File is not empty\n"
          ]
        }
      ]
    },
    {
      "cell_type": "code",
      "source": [
        "#23. Log error during file handling\n",
        "import logging\n",
        "logging.basicConfig(filename=\"file_errors.log\", level=logging.ERROR)\n",
        "\n",
        "try:\n",
        "    with open(\"unknown.txt\", \"r\") as f:\n",
        "        print(f.read())\n",
        "except FileNotFoundError as e:\n",
        "    logging.error(\"File error: %s\", e)\n"
      ],
      "metadata": {
        "colab": {
          "base_uri": "https://localhost:8080/"
        },
        "id": "tzQZQSovsCiX",
        "outputId": "2e6ae961-3f7d-4a21-d26e-4b7333b35503"
      },
      "execution_count": 27,
      "outputs": [
        {
          "output_type": "stream",
          "name": "stderr",
          "text": [
            "ERROR:root:File error: [Errno 2] No such file or directory: 'unknown.txt'\n"
          ]
        }
      ]
    }
  ]
}