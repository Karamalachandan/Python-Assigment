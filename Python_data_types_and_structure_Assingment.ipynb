{
  "nbformat": 4,
  "nbformat_minor": 0,
  "metadata": {
    "colab": {
      "provenance": [],
      "authorship_tag": "ABX9TyPBS0n8CyQBhjGw5SceiJaT",
      "include_colab_link": true
    },
    "kernelspec": {
      "name": "python3",
      "display_name": "Python 3"
    },
    "language_info": {
      "name": "python"
    }
  },
  "cells": [
    {
      "cell_type": "markdown",
      "metadata": {
        "id": "view-in-github",
        "colab_type": "text"
      },
      "source": [
        "<a href=\"https://colab.research.google.com/github/Karamalachandan/Python-Assigment/blob/main/Python_data_types_and_structure_Assingment.ipynb\" target=\"_parent\"><img src=\"https://colab.research.google.com/assets/colab-badge.svg\" alt=\"Open In Colab\"/></a>"
      ]
    },
    {
      "cell_type": "markdown",
      "source": [],
      "metadata": {
        "id": "c368gcQC-8Sq"
      }
    },
    {
      "cell_type": "markdown",
      "source": [
        "\n",
        "1. What are data structures, and why are they important?\n",
        "\n",
        "  -> Data structures are ways of organizing and storing data to perform operations efficiently. They are important because they help manage large amounts of data for tasks like searching, sorting, and data manipulation effectively.\n",
        "\n",
        "---\n",
        "\n",
        "2. What is the difference between mutable and immutable data types with examples?\n",
        "\n",
        "   -> Mutable data types can be changed after creation (e.g., lists: `my_list[0] = 10`). Immutable data types cannot be changed after creation (e.g., strings: `'hello'[0] = 'H'` will give an error).\n",
        "\n",
        "---\n",
        "\n",
        "3. What are the main differences between lists and tuples in Python?\n",
        "\n",
        "  -> Lists are mutable, can be modified, and use square brackets (`[]`). Tuples are immutable, cannot be changed, and use parentheses (`()`). Lists are generally used when data might change, while tuples are used when data must remain constant.\n",
        "\n",
        "---\n",
        "\n",
        "4. How do dictionaries store data?\n",
        "\n",
        "  -> Dictionaries store data in key-value pairs. Each unique key maps to a value, and they are stored using a structure called a hash table internally for fast access.\n",
        "\n",
        "---\n",
        "\n",
        "5. Why might you use a set instead of a list in Python?\n",
        "\n",
        "  -> A set is used when you need to store unique items and eliminate duplicates automatically. Sets also provide faster membership testing than lists.\n",
        "\n",
        "---\n",
        "\n",
        "6. What is a string in Python, and how is it different from a list?\n",
        "\n",
        "  -> A string is an immutable sequence of characters, while a list is a mutable sequence that can hold different data types. You can change list elements but not characters in a string.\n",
        "\n",
        "---\n",
        "\n",
        "7. How do tuples ensure data integrity in Python?\n",
        "\n",
        "  -> Tuples are immutable, which means their content cannot be changed. This ensures that data stored in a tuple remains consistent and secure throughout the program.\n",
        "\n",
        "---\n",
        "\n",
        "8. What is a hash table, and how does it relate to dictionaries in Python?\n",
        "\n",
        "  -> A hash table is a data structure that stores data in an associative manner using hash functions. Python dictionaries use hash tables internally to allow fast retrieval using keys.\n",
        "\n",
        "---\n",
        "\n",
        "9. Can lists contain different data types in Python?\n",
        "\n",
        "  -> Yes, lists in Python can contain different data types like integers, strings, and even other lists or objects in the same list.\n",
        "\n",
        "---\n",
        "\n",
        "10. Why are strings immutable in Python?\n",
        "\n",
        "  -> Strings are immutable to ensure safety and efficiency. It allows Python to reuse string objects in memory (string interning) and avoid unexpected side effects when strings are shared across different parts of a program.\n",
        "\n",
        "---\n",
        "\n",
        "11. What advantages do dictionaries offer over lists for certain tasks?\n",
        "\n",
        "  -> Dictionaries allow fast access to values via keys, making them better for tasks that involve lookup, mapping, or associative arrays, unlike lists that require iteration.\n",
        "\n",
        "---\n",
        "\n",
        "12. How do sets handle duplicate values in Python?\n",
        "\n",
        "  -> Sets automatically remove duplicate values. If you add the same element multiple times to a set, it will only store one instance.\n",
        "\n",
        "---\n",
        "\n",
        "13. Describe a scenario where using a tuple would be preferable over a list?\n",
        "\n",
        "  -> When you want to store fixed data like geographical coordinates `(latitude, longitude)` or constants that shouldn’t be changed, tuples are preferable due to immutability.\n",
        "\n",
        "---\n",
        "\n",
        "14. How does the “in” keyword work differently for lists and dictionaries?\n",
        "\n",
        "  -> For lists, `\"in\"` checks if a value exists in the list. For dictionaries, it checks if a key exists, not the value.\n",
        "\n",
        "---\n",
        "\n",
        "15. Can you modify the elements of a tuple? Explain why or why not?\n",
        "\n",
        "  -> No, you cannot modify tuple elements because tuples are immutable. Once created, their contents are fixed and cannot be changed.\n",
        "\n",
        "---\n",
        "\n",
        "16. What is a nested dictionary, and give an example of its use case?\n",
        "\n",
        "  -> A nested dictionary is a dictionary within another dictionary.\n",
        "Example:\n",
        "\n",
        "```python\n",
        "students = {\n",
        "  \"101\": {\"name\": \"Alice\", \"grade\": \"A\"},\n",
        "  \"102\": {\"name\": \"Bob\", \"grade\": \"B\"}\n",
        "}\n",
        "```\n",
        "\n",
        "Use case: Storing structured data like student records.\n",
        "\n",
        "---\n",
        "\n",
        "17. Describe the time complexity of accessing elements in a dictionary?\n",
        "\n",
        "  -> Accessing elements in a dictionary has an average time complexity of **O(1)** because dictionaries use hash tables.\n",
        "\n",
        "---\n",
        "\n",
        "18. In what situations are lists preferred over dictionaries?\n",
        "\n",
        "  -> Lists are preferred when order matters, or when data doesn't need to be accessed using keys—like iterating over a sequence of items in order.\n",
        "\n",
        "---\n",
        "\n",
        "19. Why are dictionaries considered unordered, and how does that affect data retrieval?\n",
        "\n",
        "  -> Dictionaries were unordered before Python 3.7, meaning the order of items wasn't guaranteed. In modern versions, insertion order is preserved, but logic should not rely on order unless explicitly required.\n",
        "\n",
        "---\n",
        "\n",
        "20. What is the difference between a list and a dictionary in terms of data retrieval?\n",
        "\n",
        "  -> Lists retrieve data by index, which takes O(n) time for searching. Dictionaries retrieve data by key, which is much faster (O(1) average time complexity).\n",
        "\n",
        "---"
      ],
      "metadata": {
        "id": "o9Xe4ToQeBFr"
      }
    },
    {
      "cell_type": "markdown",
      "source": [],
      "metadata": {
        "id": "_dbz4Bg0eze7"
      }
    },
    {
      "cell_type": "markdown",
      "source": [
        "Practical Questions"
      ],
      "metadata": {
        "id": "ULl75OVLe1ve"
      }
    },
    {
      "cell_type": "code",
      "source": [
        "# 1.Write a code to create a string with your name and print it\n",
        "A = \"Chandan\"\n",
        "print (A)"
      ],
      "metadata": {
        "colab": {
          "base_uri": "https://localhost:8080/"
        },
        "id": "a4wuCbwfegMK",
        "outputId": "797cf4b5-2898-48ad-c82a-a0d3c75c5dbd"
      },
      "execution_count": 1,
      "outputs": [
        {
          "output_type": "stream",
          "name": "stdout",
          "text": [
            "Chandan\n"
          ]
        }
      ]
    },
    {
      "cell_type": "code",
      "execution_count": 2,
      "metadata": {
        "id": "NA7HTx80-hix",
        "colab": {
          "base_uri": "https://localhost:8080/"
        },
        "outputId": "9f0c4f3f-5627-4323-ca8e-c12c3b8d4464"
      },
      "outputs": [
        {
          "output_type": "execute_result",
          "data": {
            "text/plain": [
              "11"
            ]
          },
          "metadata": {},
          "execution_count": 2
        }
      ],
      "source": [
        "# 2.Write a code to find the length of the string \"Hello World\n",
        "B = \"Hello World\"\n",
        "len(B)"
      ]
    },
    {
      "cell_type": "code",
      "source": [
        "# 3.Write a code to slice the first 3 characters from the string \"Python Programming\"\n",
        "C =\"Python Programming\"\n",
        "C[0:3]"
      ],
      "metadata": {
        "colab": {
          "base_uri": "https://localhost:8080/",
          "height": 35
        },
        "id": "O11cRRmzefRg",
        "outputId": "3f758ef1-2df5-46bd-b1c2-a713a8b6db9d"
      },
      "execution_count": 3,
      "outputs": [
        {
          "output_type": "execute_result",
          "data": {
            "text/plain": [
              "'Pyt'"
            ],
            "application/vnd.google.colaboratory.intrinsic+json": {
              "type": "string"
            }
          },
          "metadata": {},
          "execution_count": 3
        }
      ]
    },
    {
      "cell_type": "code",
      "source": [
        "# 4.Write a code to convert the string \"hello\" to uppercase\n",
        "D = \"hello\"\n",
        "print(D.upper())"
      ],
      "metadata": {
        "colab": {
          "base_uri": "https://localhost:8080/"
        },
        "id": "ohPsFnR6f8de",
        "outputId": "fd5be622-7f74-4cd3-e2db-00f7fa53bad4"
      },
      "execution_count": 4,
      "outputs": [
        {
          "output_type": "stream",
          "name": "stdout",
          "text": [
            "HELLO\n"
          ]
        }
      ]
    },
    {
      "cell_type": "code",
      "source": [
        "# 5.Write a code to replace the word \"apple\" with \"orange\" in the string \"I like apple\"\n",
        "E = \"I like apple\"\n",
        "print(E.replace(\"apple\",\"orange\"))\n"
      ],
      "metadata": {
        "colab": {
          "base_uri": "https://localhost:8080/"
        },
        "id": "FPbwnlIYiBNq",
        "outputId": "1e341fc0-e4f1-40e6-f175-ab9e9cace788"
      },
      "execution_count": 5,
      "outputs": [
        {
          "output_type": "stream",
          "name": "stdout",
          "text": [
            "I like orange\n"
          ]
        }
      ]
    },
    {
      "cell_type": "code",
      "source": [
        "# 6.Write a code to create a list with numbers 1 to 5 and print it\n",
        "List =  [1,2,3,4,5]\n",
        "print(List)"
      ],
      "metadata": {
        "colab": {
          "base_uri": "https://localhost:8080/"
        },
        "id": "3AjBZbqxi42u",
        "outputId": "d55ab5a4-d6a8-4c83-874f-1b73d71559b9"
      },
      "execution_count": 36,
      "outputs": [
        {
          "output_type": "stream",
          "name": "stdout",
          "text": [
            "[1, 2, 3, 4, 5]\n"
          ]
        }
      ]
    },
    {
      "cell_type": "code",
      "source": [
        "# 7.Write a code to append the number 10 to the list [1, 2, 3, 4]\n",
        "List1 = [1,2,3,4]\n",
        "List1.append(10)\n",
        "print(List1)\n"
      ],
      "metadata": {
        "colab": {
          "base_uri": "https://localhost:8080/"
        },
        "id": "POhWbOf7jesI",
        "outputId": "7c32f674-988b-4f7a-ea9d-2e1f59b5c1c6"
      },
      "execution_count": 11,
      "outputs": [
        {
          "output_type": "stream",
          "name": "stdout",
          "text": [
            "[1, 2, 3, 4, 10]\n"
          ]
        }
      ]
    },
    {
      "cell_type": "code",
      "source": [
        "# 8.Write a code to remove the number 3 from the list [1, 2, 3, 4, 5]\n",
        "List2 = [1,2,3,4,5]\n",
        "List2.remove(3)\n",
        "print(List2)\n"
      ],
      "metadata": {
        "colab": {
          "base_uri": "https://localhost:8080/"
        },
        "id": "0TxAOpykj0-V",
        "outputId": "98a06400-68ab-465b-f4b9-134a863a8b25"
      },
      "execution_count": 12,
      "outputs": [
        {
          "output_type": "stream",
          "name": "stdout",
          "text": [
            "[1, 2, 4, 5]\n"
          ]
        }
      ]
    },
    {
      "cell_type": "code",
      "source": [
        "# 9.Write a code to access the second element in the list ['a', 'b', 'c', 'd']\n",
        "List3 = ['a', 'b', 'c', 'd']\n",
        "print(List3[1])"
      ],
      "metadata": {
        "colab": {
          "base_uri": "https://localhost:8080/"
        },
        "id": "qAqKsUpIkhpF",
        "outputId": "f9600028-734d-4139-f056-d5731a5e6f40"
      },
      "execution_count": 13,
      "outputs": [
        {
          "output_type": "stream",
          "name": "stdout",
          "text": [
            "b\n"
          ]
        }
      ]
    },
    {
      "cell_type": "code",
      "source": [
        "# 10.Write a code to reverse the list [10, 20, 30, 40, 50].\n",
        "List4 = [10, 20, 30, 40, 50]\n",
        "List4.reverse()\n",
        "print(List4)"
      ],
      "metadata": {
        "colab": {
          "base_uri": "https://localhost:8080/"
        },
        "id": "2CMQMkQ3ktxh",
        "outputId": "75ae9e64-6577-4b12-f92b-566555450421"
      },
      "execution_count": 14,
      "outputs": [
        {
          "output_type": "stream",
          "name": "stdout",
          "text": [
            "[50, 40, 30, 20, 10]\n"
          ]
        }
      ]
    },
    {
      "cell_type": "code",
      "source": [
        "# 11.Write a code to create a tuple with the elements 100, 200, 300 and print it.\n",
        "Tuple = (100,200,300)\n",
        "print(Tuple)"
      ],
      "metadata": {
        "colab": {
          "base_uri": "https://localhost:8080/"
        },
        "id": "Ln73R6ykk6BL",
        "outputId": "2b2c6357-9a7c-4175-f5d1-27efe8345fd9"
      },
      "execution_count": 15,
      "outputs": [
        {
          "output_type": "stream",
          "name": "stdout",
          "text": [
            "(100, 200, 300)\n"
          ]
        }
      ]
    },
    {
      "cell_type": "code",
      "source": [
        "# 12.Write a code to access the second-to-last element of the tuple ('red', 'green', 'blue', 'yellow\n",
        "Tuple1 = ('red', 'green', 'blue', 'yellow')\n",
        "print(Tuple1[-2])"
      ],
      "metadata": {
        "colab": {
          "base_uri": "https://localhost:8080/"
        },
        "id": "QM9nBNYZlEaY",
        "outputId": "fa51d743-bcb4-477b-9ba8-0e34884aba4e"
      },
      "execution_count": 16,
      "outputs": [
        {
          "output_type": "stream",
          "name": "stdout",
          "text": [
            "blue\n"
          ]
        }
      ]
    },
    {
      "cell_type": "code",
      "source": [
        "# 13. Write a code to find the minimum number in the tuple (10, 20, 5, 15)\n",
        "Tuple2 = (10, 20, 5, 15)\n",
        "print(min(Tuple2))"
      ],
      "metadata": {
        "colab": {
          "base_uri": "https://localhost:8080/"
        },
        "id": "es0pVHF8lRG2",
        "outputId": "e54e4b5a-5efc-4d93-c851-bf00bd2874b0"
      },
      "execution_count": 17,
      "outputs": [
        {
          "output_type": "stream",
          "name": "stdout",
          "text": [
            "5\n"
          ]
        }
      ]
    },
    {
      "cell_type": "code",
      "source": [
        "# 14.Write a code to find the index of the element \"cat\" in the tuple ('dog', 'cat', 'rabbit').\n",
        "Tuple3 = ('dog', 'cat', 'rabbit')\n",
        "print(Tuple3.index('cat'))\n",
        "\n"
      ],
      "metadata": {
        "colab": {
          "base_uri": "https://localhost:8080/"
        },
        "id": "Bqfmy43ilZvB",
        "outputId": "a57b9056-4f08-426d-8bb4-f257403a3d32"
      },
      "execution_count": 18,
      "outputs": [
        {
          "output_type": "stream",
          "name": "stdout",
          "text": [
            "1\n"
          ]
        }
      ]
    },
    {
      "cell_type": "code",
      "source": [
        "# 15.Write a code to create a tuple containing three different fruits and check if \"kiwi\" is in it.\n",
        "Tuple4 = ('apple', 'banana', 'orange')\n",
        "print('kiwi' in Tuple4)\n"
      ],
      "metadata": {
        "colab": {
          "base_uri": "https://localhost:8080/"
        },
        "id": "7ATANiqoloN0",
        "outputId": "0cf41e1c-e720-40b6-f18d-e63a60cf6615"
      },
      "execution_count": 19,
      "outputs": [
        {
          "output_type": "stream",
          "name": "stdout",
          "text": [
            "False\n"
          ]
        }
      ]
    },
    {
      "cell_type": "code",
      "source": [
        "#  16.Write a code to create a set with the elements 'a', 'b', 'c' and print it\n",
        "Set = {'a', 'b', 'c'}\n",
        "print(Set)\n"
      ],
      "metadata": {
        "colab": {
          "base_uri": "https://localhost:8080/"
        },
        "id": "dqOlrE4ilxrX",
        "outputId": "a1f490bb-c70a-4bc7-a09a-ea692be7cc89"
      },
      "execution_count": 20,
      "outputs": [
        {
          "output_type": "stream",
          "name": "stdout",
          "text": [
            "{'c', 'a', 'b'}\n"
          ]
        }
      ]
    },
    {
      "cell_type": "code",
      "source": [
        "# 17.Write a code to clear all elements from the set {1, 2, 3, 4, 5}.\n",
        "Set1 = {1, 2, 3, 4, 5}\n",
        "Set1.clear()\n",
        "print(Set1)"
      ],
      "metadata": {
        "colab": {
          "base_uri": "https://localhost:8080/"
        },
        "id": "ZiBChLyxl9fB",
        "outputId": "e287ecb3-b6b8-4da9-c47f-066287b97033"
      },
      "execution_count": 21,
      "outputs": [
        {
          "output_type": "stream",
          "name": "stdout",
          "text": [
            "set()\n"
          ]
        }
      ]
    },
    {
      "cell_type": "code",
      "source": [
        "# 18.Write a code to remove the element 4 from the set {1, 2, 3, 4}.\n",
        "Set2 = {1, 2, 3, 4}\n",
        "Set2.remove(4)\n",
        "print(Set2)"
      ],
      "metadata": {
        "colab": {
          "base_uri": "https://localhost:8080/"
        },
        "id": "dT_cCvshmHeX",
        "outputId": "d4734189-7900-4923-ba05-b66a892fa1eb"
      },
      "execution_count": 22,
      "outputs": [
        {
          "output_type": "stream",
          "name": "stdout",
          "text": [
            "{1, 2, 3}\n"
          ]
        }
      ]
    },
    {
      "cell_type": "code",
      "source": [
        "# 19.Write a code to find the union of two sets {1, 2, 3} and {3, 4, 5}.\n",
        "set3 = {1, 2, 3}\n",
        "set4 = {3, 4, 5}\n",
        "print(set3.union(set4))"
      ],
      "metadata": {
        "colab": {
          "base_uri": "https://localhost:8080/"
        },
        "id": "x12R4wBXmQIm",
        "outputId": "54e48eba-6a17-4746-b4ed-e8abacaa4b8b"
      },
      "execution_count": 23,
      "outputs": [
        {
          "output_type": "stream",
          "name": "stdout",
          "text": [
            "{1, 2, 3, 4, 5}\n"
          ]
        }
      ]
    },
    {
      "cell_type": "code",
      "source": [
        "# 20.Write a code to find the intersection of two sets {1, 2, 3} and {2, 3, 4}.\n",
        "set5 = {1, 2, 3}\n",
        "set6 = {2, 3, 4}\n",
        "print(set5.intersection(set6))"
      ],
      "metadata": {
        "colab": {
          "base_uri": "https://localhost:8080/"
        },
        "id": "_1kKH0vnmfUf",
        "outputId": "4a048410-a6d3-4cf1-b446-d3ee2524660d"
      },
      "execution_count": 24,
      "outputs": [
        {
          "output_type": "stream",
          "name": "stdout",
          "text": [
            "{2, 3}\n"
          ]
        }
      ]
    },
    {
      "cell_type": "code",
      "source": [
        "# 21.Write a code to create a dictionary with the keys \"name\", \"age\", and \"city\", and print it.\n",
        "dict1 ={\"name\": \"John\", \"age\": 25,\"city\": \"New York\"}\n",
        "print(dict1)\n"
      ],
      "metadata": {
        "colab": {
          "base_uri": "https://localhost:8080/"
        },
        "id": "nPOxzqagmr8E",
        "outputId": "1b1a62ba-ba09-493d-aabd-a2eff05cf94b"
      },
      "execution_count": 26,
      "outputs": [
        {
          "output_type": "stream",
          "name": "stdout",
          "text": [
            "{'name': 'John', 'age': 25, 'city': 'New York'}\n"
          ]
        }
      ]
    },
    {
      "cell_type": "code",
      "source": [
        "# 22.Write a code to add a new key-value pair \"country\": \"USA\" to the dictionary {'name': 'John', 'age': 25}\n",
        "dict2 = {'name': 'John', 'age': 25}\n",
        "dict2[\"country\"] = \"USA\"\n",
        "print(dict2)"
      ],
      "metadata": {
        "colab": {
          "base_uri": "https://localhost:8080/"
        },
        "id": "8xhLoZbtnKfC",
        "outputId": "2f9721aa-b0ab-444f-b806-87395e7ee9b6"
      },
      "execution_count": 27,
      "outputs": [
        {
          "output_type": "stream",
          "name": "stdout",
          "text": [
            "{'name': 'John', 'age': 25, 'country': 'USA'}\n"
          ]
        }
      ]
    },
    {
      "cell_type": "code",
      "source": [
        "# 23.Write a code to access the value associated with the key \"name\" in the dictionary {'name': 'Alice', 'age': 30}.\n",
        "dict3 = {'name': 'Alice', 'age': 30}\n",
        "print(dict3['name'])"
      ],
      "metadata": {
        "colab": {
          "base_uri": "https://localhost:8080/"
        },
        "id": "LPrjE2SYnYaw",
        "outputId": "2c8e3212-1952-47cb-ee36-60cfb8667a7d"
      },
      "execution_count": 28,
      "outputs": [
        {
          "output_type": "stream",
          "name": "stdout",
          "text": [
            "Alice\n"
          ]
        }
      ]
    },
    {
      "cell_type": "code",
      "source": [
        "# 24.Write a code to remove the key \"age\" from the dictionary {'name': 'Bob', 'age': 22, 'city': 'New York'}\n",
        "dict4 = {'name': 'Bob', 'age': 22, 'city': 'New York'}\n",
        "del dict4['age']\n",
        "print(dict4)"
      ],
      "metadata": {
        "colab": {
          "base_uri": "https://localhost:8080/"
        },
        "id": "6SjSEMfVoQ5c",
        "outputId": "e64acbb5-c1ba-4e1b-8561-d78f382c9697"
      },
      "execution_count": 29,
      "outputs": [
        {
          "output_type": "stream",
          "name": "stdout",
          "text": [
            "{'name': 'Bob', 'city': 'New York'}\n"
          ]
        }
      ]
    },
    {
      "cell_type": "code",
      "source": [
        "#  25.Write a code to check if the key \"city\" exists in the dictionary {'name': 'Alice', 'city': 'Paris'}.\n",
        "dict5 = {'name': 'Alice', 'city': 'Paris'}\n",
        "print('city' in dict5)"
      ],
      "metadata": {
        "colab": {
          "base_uri": "https://localhost:8080/"
        },
        "id": "6YPW3Gesokj-",
        "outputId": "f8786c41-24da-4fb6-c251-54d3a17dee44"
      },
      "execution_count": 30,
      "outputs": [
        {
          "output_type": "stream",
          "name": "stdout",
          "text": [
            "True\n"
          ]
        }
      ]
    },
    {
      "cell_type": "code",
      "source": [
        "# 26.Write a code to create a list, a tuple, and a dictionary, and print them all.\n",
        "# Creating a list\n",
        "my_list = [1, 2, 3, 4, 5]\n",
        "\n",
        "# Creating a tuple\n",
        "my_tuple = ('apple', 'banana', 'cherry')\n",
        "\n",
        "# Creating a dictionary\n",
        "my_dict = {'name': 'Alice', 'age': 30}\n",
        "\n",
        "# Printing them\n",
        "print(\"List:\", my_list)\n",
        "print(\"Tuple:\", my_tuple)\n",
        "print(\"Dictionary:\", my_dict)\n"
      ],
      "metadata": {
        "colab": {
          "base_uri": "https://localhost:8080/"
        },
        "id": "5LHM5zkkoyu0",
        "outputId": "274a71dd-b7a4-451f-e512-5513ce325d0a"
      },
      "execution_count": 31,
      "outputs": [
        {
          "output_type": "stream",
          "name": "stdout",
          "text": [
            "List: [1, 2, 3, 4, 5]\n",
            "Tuple: ('apple', 'banana', 'cherry')\n",
            "Dictionary: {'name': 'Alice', 'age': 30}\n"
          ]
        }
      ]
    },
    {
      "cell_type": "code",
      "source": [
        "# 27.Write a code to create a list of 5 random numbers between 1 and 100, sort it in ascending order, and print the result\n",
        "import random\n",
        "random_numbers = [random.randint(1, 100) for _ in range(5)]\n",
        "random_numbers.sort()\n",
        "print(\"Sorted List:\", random_numbers)"
      ],
      "metadata": {
        "colab": {
          "base_uri": "https://localhost:8080/"
        },
        "id": "23ZCGs2j5gQp",
        "outputId": "6e9751d8-1219-4f98-a608-397570a6e0cd"
      },
      "execution_count": 32,
      "outputs": [
        {
          "output_type": "stream",
          "name": "stdout",
          "text": [
            "Sorted List: [31, 48, 52, 58, 59]\n"
          ]
        }
      ]
    },
    {
      "cell_type": "code",
      "source": [
        "# 28.Write a code to create a list with strings and print the element at the third index\n",
        "# Creating a list with strings\n",
        "fruits = [\"apple\", \"banana\", \"cherry\", \"orange\", \"grape\"]\n",
        "\n",
        "# Printing the element at the third index\n",
        "print(fruits[3])\n"
      ],
      "metadata": {
        "colab": {
          "base_uri": "https://localhost:8080/"
        },
        "id": "RQTuvIUN5yoV",
        "outputId": "d300812c-1860-428e-8c45-092db76e73d0"
      },
      "execution_count": 33,
      "outputs": [
        {
          "output_type": "stream",
          "name": "stdout",
          "text": [
            "orange\n"
          ]
        }
      ]
    },
    {
      "cell_type": "code",
      "source": [
        "# 29.Write a code to combine two dictionaries into one and print the resultdi\n",
        "dict1 = {'a': 1, 'b': 2}\n",
        "dict2 = {'c': 3, 'd': 4}\n",
        "\n",
        "# Combining the dictionaries\n",
        "combined_dict = {**dict1, **dict2}\n",
        "\n",
        "# Printing the result\n",
        "print(combined_dict)\n"
      ],
      "metadata": {
        "colab": {
          "base_uri": "https://localhost:8080/"
        },
        "id": "PUmzyNbA6ARf",
        "outputId": "b40f8940-4bd6-4fa4-8be4-fde843d5a0c7"
      },
      "execution_count": 34,
      "outputs": [
        {
          "output_type": "stream",
          "name": "stdout",
          "text": [
            "{'a': 1, 'b': 2, 'c': 3, 'd': 4}\n"
          ]
        }
      ]
    },
    {
      "cell_type": "code",
      "source": [
        "# 30.Write a code to convert a list of strings into a set.\n",
        "list_of_strings = [\"apple\", \"banana\", \"cherry\", \"apple\", \"banana\"]\n",
        "\n",
        "# Converting the list to a set\n",
        "unique_set = set(list_of_strings)\n",
        "\n",
        "# Printing the set\n",
        "print(unique_set)"
      ],
      "metadata": {
        "colab": {
          "base_uri": "https://localhost:8080/"
        },
        "id": "d0E15ORY6Oxj",
        "outputId": "29e2dc0c-4196-43e5-8bc4-d2097fbaffea"
      },
      "execution_count": 35,
      "outputs": [
        {
          "output_type": "stream",
          "name": "stdout",
          "text": [
            "{'cherry', 'banana', 'apple'}\n"
          ]
        }
      ]
    }
  ]
}