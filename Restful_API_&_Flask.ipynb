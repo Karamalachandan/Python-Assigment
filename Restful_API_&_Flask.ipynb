{
  "nbformat": 4,
  "nbformat_minor": 0,
  "metadata": {
    "colab": {
      "provenance": [],
      "authorship_tag": "ABX9TyOGZJizMYL+fc4kICqKw7Ht",
      "include_colab_link": true
    },
    "kernelspec": {
      "name": "python3",
      "display_name": "Python 3"
    },
    "language_info": {
      "name": "python"
    }
  },
  "cells": [
    {
      "cell_type": "markdown",
      "metadata": {
        "id": "view-in-github",
        "colab_type": "text"
      },
      "source": [
        "<a href=\"https://colab.research.google.com/github/Karamalachandan/Python-Assigment/blob/main/Restful_API_%26_Flask.ipynb\" target=\"_parent\"><img src=\"https://colab.research.google.com/assets/colab-badge.svg\" alt=\"Open In Colab\"/></a>"
      ]
    },
    {
      "cell_type": "markdown",
      "source": [
        "\n",
        "### 1. **What is a RESTful API?**\n",
        "\n",
        "A RESTful API (Representational State Transfer) is a way to build web services that follow REST principles. It uses **HTTP methods (GET, POST, PUT, DELETE)** to perform operations on resources, usually represented in JSON or XML format. REST APIs are stateless, scalable, and widely used.\n",
        "\n",
        "---\n",
        "\n",
        "### 2. **Explain the concept of API specification**\n",
        "\n",
        "An API specification defines the **rules, endpoints, request/response formats, data types, and error codes** for an API. Examples include **OpenAPI/Swagger**. It helps developers understand how to interact with the API without needing to see the backend code.\n",
        "\n",
        "---\n",
        "\n",
        "### 3. **What is Flask, and why is it popular for building APIs?**\n",
        "\n",
        "Flask is a lightweight Python web framework. It’s popular for APIs because it is:\n",
        "\n",
        "* Easy to learn & flexible\n",
        "* Minimal but extensible\n",
        "* Supports REST easily\n",
        "* Has extensions like Flask-RESTful & Flask-SQLAlchemy\n",
        "\n",
        "---\n",
        "\n",
        "### 4. **What is routing in Flask?**\n",
        "\n",
        "Routing means mapping **URLs (paths)** to specific functions in a Flask application. Example:\n",
        "\n",
        "```python\n",
        "@app.route('/hello')\n",
        "def hello():\n",
        "    return \"Hello World\"\n",
        "```\n",
        "\n",
        "---\n",
        "\n",
        "### 5. **How do you create a simple Flask application?**\n",
        "\n",
        "```python\n",
        "from flask import Flask\n",
        "app = Flask(__name__)\n",
        "\n",
        "@app.route('/')\n",
        "def home():\n",
        "    return \"Welcome to Flask!\"\n",
        "\n",
        "if __name__ == \"__main__\":\n",
        "    app.run(debug=True)\n",
        "```\n",
        "\n",
        "---\n",
        "\n",
        "### 6. **What are HTTP methods used in RESTful APIs?**\n",
        "\n",
        "* **GET** – Retrieve data\n",
        "* **POST** – Create new resource\n",
        "* **PUT** – Update/replace resource\n",
        "* **PATCH** – Partially update resource\n",
        "* **DELETE** – Remove resource\n",
        "\n",
        "---\n",
        "\n",
        "### 7. **What is the purpose of the @app.route() decorator in Flask?**\n",
        "\n",
        "It **binds a URL** to a function, telling Flask which function should handle which request.\n",
        "\n",
        "---\n",
        "\n",
        "### 8. **Difference between GET and POST HTTP methods**\n",
        "\n",
        "* **GET** → Retrieves data, parameters in URL, safe & idempotent\n",
        "* **POST** → Sends data in request body, used to create resources, not idempotent\n",
        "\n",
        "---\n",
        "\n",
        "### 9. **How do you handle errors in Flask APIs?**\n",
        "\n",
        "Using `@app.errorhandler` or returning custom responses:\n",
        "\n",
        "```python\n",
        "@app.errorhandler(404)\n",
        "def not_found(e):\n",
        "    return {\"error\": \"Not Found\"}, 404\n",
        "```\n",
        "\n",
        "---\n",
        "\n",
        "### 10. **How do you connect Flask to a SQL database?**\n",
        "\n",
        "Using **Flask-SQLAlchemy**:\n",
        "\n",
        "```python\n",
        "from flask_sqlalchemy import SQLAlchemy\n",
        "app.config['SQLALCHEMY_DATABASE_URI'] = 'sqlite:///test.db'\n",
        "db = SQLAlchemy(app)\n",
        "```\n",
        "\n",
        "---\n",
        "\n",
        "### 11. **What is the role of Flask-SQLAlchemy?**\n",
        "\n",
        "It is an **ORM (Object Relational Mapper)** that lets you interact with databases using Python objects instead of raw SQL queries.\n",
        "\n",
        "---\n",
        "\n",
        "### 12. **What are Flask blueprints, and how are they useful?**\n",
        "\n",
        "Blueprints allow modularizing an app by grouping routes, templates, and static files. They make large apps easier to maintain.\n",
        "\n",
        "---\n",
        "\n",
        "### 13. **What is the purpose of Flask's request object?**\n",
        "\n",
        "`request` stores all incoming HTTP request data such as **form data, JSON payload, headers, cookies, and method**.\n",
        "\n",
        "---\n",
        "\n",
        "### 14. **How do you create a RESTful API endpoint using Flask?**\n",
        "\n",
        "```python\n",
        "from flask import Flask, jsonify\n",
        "app = Flask(__name__)\n",
        "\n",
        "@app.route('/api/data', methods=['GET'])\n",
        "def get_data():\n",
        "    return jsonify({\"message\": \"Hello API!\"})\n",
        "```\n",
        "\n",
        "---\n",
        "\n",
        "### 15. **What is the purpose of Flask's jsonify() function?**\n",
        "\n",
        "It converts Python dictionaries/lists into **JSON response format**, setting the correct headers.\n",
        "\n",
        "---\n",
        "\n",
        "### 16. **Explain Flask’s url\\_for() function**\n",
        "\n",
        "`url_for()` dynamically generates URLs for routes. Example:\n",
        "\n",
        "```python\n",
        "url_for('home')  # returns \"/\"\n",
        "```\n",
        "\n",
        "---\n",
        "\n",
        "### 17. **How does Flask handle static files (CSS, JS, etc.)?**\n",
        "\n",
        "Flask automatically serves files from the **/static** folder. Example:\n",
        "\n",
        "```html\n",
        "<link rel=\"stylesheet\" href=\"{{ url_for('static', filename='style.css') }}\">\n",
        "```\n",
        "\n",
        "---\n",
        "\n",
        "### 18. **What is an API specification, and how does it help in building a Flask API?**\n",
        "\n",
        "(Repeated from #2, but in context of Flask)\n",
        "It acts as a **blueprint** for API development, ensuring **consistency, documentation, and easier testing**.\n",
        "\n",
        "---\n",
        "\n",
        "### 19. **What are HTTP status codes, and why are they important in a Flask API?**\n",
        "\n",
        "They indicate the result of a request:\n",
        "\n",
        "* `200 OK` – success\n",
        "* `201 Created` – resource added\n",
        "* `400 Bad Request` – invalid input\n",
        "* `404 Not Found` – resource missing\n",
        "* `500 Internal Server Error` – server issue\n",
        "\n",
        "---\n",
        "\n",
        "### 20. **How do you handle POST requests in Flask?**\n",
        "\n",
        "```python\n",
        "@app.route('/submit', methods=['POST'])\n",
        "def submit():\n",
        "    data = request.json\n",
        "    return jsonify(data), 201\n",
        "```\n",
        "\n",
        "---\n",
        "\n",
        "### 21. **How would you secure a Flask API?**\n",
        "\n",
        "* Use **authentication** (JWT, OAuth, API keys)\n",
        "* Validate input to prevent injection attacks\n",
        "* Enable HTTPS\n",
        "* Rate limiting to prevent abuse\n",
        "\n",
        "---\n",
        "\n",
        "### 22. **What is the significance of the Flask-RESTful extension?**\n",
        "\n",
        "It simplifies building REST APIs by providing **Resource classes, request parsing, and automatic error handling**.\n",
        "\n",
        "---\n",
        "\n",
        "### 23. **What is the role of Flask’s session object?**\n",
        "\n",
        "`session` stores **user-specific data** across requests (like login info). Data is stored client-side in cookies but signed securely.\n",
        "\n"
      ],
      "metadata": {
        "id": "5PA6xVyz-Mu-"
      }
    },
    {
      "cell_type": "code",
      "source": [
        "# Practical questions"
      ],
      "metadata": {
        "id": "u1pKWX0rFMBQ"
      },
      "execution_count": null,
      "outputs": []
    },
    {
      "cell_type": "code",
      "source": [
        "# 1. How do you create a basic Flask application?\n",
        "\n",
        "from flask import Flask\n",
        "app = Flask(__name__)\n",
        "\n",
        "@app.route('/')\n",
        "def home():\n",
        "    return \"Hello Flask!\"\n",
        "\n",
        "if __name__ == \"__main__\":\n",
        "    app.run(debug=True)"
      ],
      "metadata": {
        "colab": {
          "base_uri": "https://localhost:8080/"
        },
        "id": "MA_3s9Hk-eyK",
        "outputId": "7aaa077f-c6b7-4292-907c-80999aab85bc"
      },
      "execution_count": 2,
      "outputs": [
        {
          "output_type": "stream",
          "name": "stdout",
          "text": [
            " * Serving Flask app '__main__'\n",
            " * Debug mode: on\n"
          ]
        },
        {
          "output_type": "stream",
          "name": "stderr",
          "text": [
            "INFO:werkzeug:\u001b[31m\u001b[1mWARNING: This is a development server. Do not use it in a production deployment. Use a production WSGI server instead.\u001b[0m\n",
            " * Running on http://127.0.0.1:5000\n",
            "INFO:werkzeug:\u001b[33mPress CTRL+C to quit\u001b[0m\n",
            "INFO:werkzeug: * Restarting with watchdog (inotify)\n"
          ]
        }
      ]
    },
    {
      "cell_type": "code",
      "source": [
        "# 2. How do you serve static files like images or CSS in Flask?\n",
        "\n",
        "from flask import Flask, send_from_directory\n",
        "\n",
        "app = Flask(__name__)\n",
        "\n",
        "@app.route('/static/<path:filename>')\n",
        "def serve_static(filename):\n",
        "    return send_from_directory('static', filename)\n",
        "\n",
        "\n"
      ],
      "metadata": {
        "id": "PA1rH611_YN3"
      },
      "execution_count": 5,
      "outputs": []
    },
    {
      "cell_type": "code",
      "source": [
        "# 3. How do you define different routes with different HTTP methods in Flask?\n",
        "from flask import Flask, request\n",
        "\n",
        "app = Flask(__name__)\n",
        "@app.route('/submit', methods=['GET', 'POST'])\n",
        "def submit():\n",
        "    if request.method == 'POST':\n",
        "        return \"Form submitted!\"\n",
        "    return \"Submit Page\"\n"
      ],
      "metadata": {
        "id": "YkH859yP_2-I"
      },
      "execution_count": 7,
      "outputs": []
    },
    {
      "cell_type": "code",
      "source": [
        "# 4. How do you render HTML templates in Flask?\n",
        "from flask import render_template\n",
        "\n",
        "@app.route('/about')\n",
        "def about():\n",
        "    return render_template('about.html', title=\"About Us\")\n"
      ],
      "metadata": {
        "id": "HVbvtZn7ADCy"
      },
      "execution_count": 8,
      "outputs": []
    },
    {
      "cell_type": "code",
      "source": [
        "# 5. How can you generate URLs for routes in Flask using url_for?\n",
        "\n",
        "from flask import url_for\n",
        "\n",
        "\n",
        "\n",
        "with app.test_request_context():\n",
        "    print(url_for('home'))  # Output: /home\n",
        "    print(url_for('about'))  # Output: /about"
      ],
      "metadata": {
        "colab": {
          "base_uri": "https://localhost:8080/"
        },
        "id": "oSxv3EllAhq7",
        "outputId": "52c458f4-982e-459f-ff54-1c4049994384"
      },
      "execution_count": 13,
      "outputs": [
        {
          "output_type": "stream",
          "name": "stdout",
          "text": [
            "/home\n",
            "/about\n"
          ]
        }
      ]
    },
    {
      "cell_type": "code",
      "source": [
        "# 6. How do you handle forms in Flask?\n",
        "from flask import request, render_template # Import render_template\n",
        "\n",
        "# Remove duplicate route definition\n",
        "# @app.route('/form', methods=['GET', 'POST'])\n",
        "def form():\n",
        "    if request.method == 'POST':\n",
        "        # 7. How can you validate form data in Flask?\n",
        "        if not request.form.get('name'): # Use .get() for safer access and check truthiness\n",
        "            return \"Name required!\", 400\n",
        "        name = request.form['name']\n",
        "        return f\"Hello {name}\"\n",
        "    return render_template('form.html')"
      ],
      "metadata": {
        "id": "ILNVXVZMBsKz"
      },
      "execution_count": 20,
      "outputs": []
    },
    {
      "cell_type": "code",
      "source": [
        " # 7. How can you validate form data in Flask?\n",
        "from flask import request, render_template # Import render_template\n",
        "\n",
        "\n",
        "\n",
        "\n"
      ],
      "metadata": {
        "id": "QefgwpdJB7lu"
      },
      "execution_count": 24,
      "outputs": []
    },
    {
      "cell_type": "code",
      "source": [
        "# 8. How do you manage sessions in Flask?\n",
        "from flask import session\n",
        "\n",
        "app.secret_key = \"secret_key\"\n",
        "\n",
        "@app.route('/login')\n",
        "def login():\n",
        "    session['user'] = 'John'\n",
        "    return \"Logged in!\"\n",
        "\n",
        "@app.route('/logout')\n",
        "def logout():\n",
        "    session.pop('user', None)\n",
        "    return \"Logged out!\"\n"
      ],
      "metadata": {
        "id": "kBqzHVlcDnEj"
      },
      "execution_count": 25,
      "outputs": []
    },
    {
      "cell_type": "code",
      "source": [
        "# 9. How do you redirect to a different route in Flask?\n",
        "from flask import redirect, url_for\n",
        "\n",
        "@app.route('/redirect')\n",
        "def redirect_to_home():\n",
        "    return redirect(url_for('home'))\n"
      ],
      "metadata": {
        "id": "op6p_z3bDuj0"
      },
      "execution_count": 26,
      "outputs": []
    },
    {
      "cell_type": "code",
      "source": [
        "# 10. How do you handle errors in Flask (e.g., 404)?\n",
        "from flask import render_template, abort\n",
        "\n",
        "@app.route('/error')\n",
        "def error():\n",
        "    abort(404)"
      ],
      "metadata": {
        "id": "vw4jZd7xD2SZ"
      },
      "execution_count": 27,
      "outputs": []
    },
    {
      "cell_type": "code",
      "source": [
        "# 11. How do you structure a Flask app using Blueprints?\n",
        "from flask import Blueprint\n",
        "user_bp = Blueprint('user', __name__)\n",
        "\n",
        "@user_bp.route('/profile')\n",
        "def profile():\n",
        "    return \"User Profile\"\n",
        "\n",
        "app.register_blueprint(user_bp, url_prefix='/user')\n"
      ],
      "metadata": {
        "id": "SUuTe2Q7D-c2"
      },
      "execution_count": 37,
      "outputs": []
    },
    {
      "cell_type": "code",
      "source": [
        "# 12. How do you define a custom Jinja filter in Flask?\n",
        "from flask import Flask\n",
        "from jinja2 import Environment, filters\n",
        "\n",
        "app = Flask(__name__)\n",
        "env = Environment()"
      ],
      "metadata": {
        "id": "aRsv1NlEEdKl"
      },
      "execution_count": 32,
      "outputs": []
    },
    {
      "cell_type": "code",
      "source": [
        "# 13. How can you redirect with query parameters in Flask?\n",
        "@app.route('/redirect')\n",
        "def go():\n",
        "    return redirect(url_for('search', q='Flask'))\n",
        "\n",
        "@app.route('/search')\n",
        "def search():\n",
        "    query = request.args.get('q')\n",
        "    return f\"Searching for {query}\"\n"
      ],
      "metadata": {
        "id": "xY-Kj7qdEjLu"
      },
      "execution_count": 33,
      "outputs": []
    },
    {
      "cell_type": "code",
      "source": [
        "# 14. How do you return JSON responses in Flask?\n",
        "from flask import jsonify\n",
        "\n",
        "@app.route('/api')\n",
        "def api():\n",
        "    return jsonify({\"message\": \"Hello JSON\"})\n"
      ],
      "metadata": {
        "id": "krDn11omEo2I"
      },
      "execution_count": 34,
      "outputs": []
    },
    {
      "cell_type": "code",
      "source": [
        "#  15. How do you capture URL parameters in Flask?\n",
        "from flask import request\n",
        "\n",
        "@app.route('/user/<username>')\n",
        "def user(username):\n",
        "    return f\"Hello {username}\""
      ],
      "metadata": {
        "id": "NarYqPXCEvbp"
      },
      "execution_count": 35,
      "outputs": []
    }
  ]
}