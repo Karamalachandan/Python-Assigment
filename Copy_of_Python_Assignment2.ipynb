{
  "nbformat": 4,
  "nbformat_minor": 0,
  "metadata": {
    "colab": {
      "provenance": []
    },
    "kernelspec": {
      "name": "python3",
      "display_name": "Python 3"
    },
    "language_info": {
      "name": "python"
    }
  },
  "cells": [
    {
      "cell_type": "code",
      "execution_count": null,
      "metadata": {
        "id": "MdN-6K0NOoLL"
      },
      "outputs": [],
      "source": []
    },
    {
      "cell_type": "markdown",
      "source": [
        "1. What is Python, and why is it popular ?\n",
        "\n",
        "    -> Python is a high-level, interpreted programming language known for its readability, simplicity, and broad versatility. It was created by Guido van Rossum and first released in 1991. Python emphasizes code readability with a clean and easy-to-understand syntax, which makes it ideal for beginners and professionals alike. It is popular becaause easy to learn and use.\n",
        "\n",
        "2. What is an interpreter in Python ?\n",
        "\n",
        "    -> In Python, an interpreter is a program that reads and executes the code line by line instead of compiling the entire program at once.\n",
        "\n",
        "3. What are pre-defined keywords in Python ?\n",
        "\n",
        "    -> Pre-defined keywords in Python are reserved words that have special meaning to the Python interpreter. You cannot use them as variable names, function names, or identifiers because they are part of the Python language syntax.\n",
        "    examples : if, else, elif, while, for, break, continue, pass.\n",
        "\n",
        "4. Can keywords be used as variable names ?\n",
        "    -> Keywords are reserved words in Python that have special meaning to the interpreter. Because of that, you cannot use them as names for variables, functions, classes, or anything else.\n",
        "\n",
        "5. What is mutability in Python ?\n",
        "\n",
        "    -> Mutability refers to whether an object in Python can be changed (modified) after it is created.\n",
        "\n",
        "6. Why are lists mutable, but tuples are immutable ?\n",
        "\n",
        "    -> Lists Are Mutable\n",
        "\n",
        "    -> Definition: Lists can be changed after creation — you can add, remove, or modify elements.\n",
        "   \n",
        "    -> Reason: Lists are used when you need a flexible, changeable collection of items.\n",
        "\n",
        "    -> Design Goal: Provide modifiability and dynamic behavior.\n",
        "\n",
        "    -> Tuples Are Immutable\n",
        "      \n",
        "    -> Definition: Tuples cannot be changed once created.\n",
        "\n",
        "    -> Reason: Tuples are used for fixed data, like coordinates, constant sets, or dictionary keys.\n",
        "\n",
        "    -> Design Goal: Provide safety, performance, and hashability.   \n",
        "    \n",
        "7. What is the difference between “==” and “is” operators in Python ?\n",
        "\n",
        "    -> In Python, == and is are comparison operators, but they are used for different purposes:\n",
        "\n",
        "    \" = \" Equality Operator :\n",
        "\n",
        "    ->  Checks if two values are equal in content.\n",
        "\n",
        "    -> Compares the data stored in the object.\n",
        "\n",
        "    \" IS \" Identity Operator :\n",
        "\n",
        "    ->  Checks if two variables refer to the same object in memory.\n",
        "\n",
        "    ->  Compares the object identities (memory addresses)\n",
        "\n",
        "8. What are logical operators in Python ?\n",
        "\n",
        "    -> Logical operators are used to combine conditional statements (usually with if, while, etc.) and return a Boolean value (True or False).\n",
        "\n",
        "9. What is type casting in Python ?\n",
        "\n",
        "    -> type casting in Python means converting the data type of a value from one type to another — such as from int to float, str to int, etc.\n",
        "\n",
        "10. What is the difference between implicit and explicit type casting ?\n",
        "\n",
        "    Implicit Type Casting (Automatic) :\n",
        "\n",
        "    -> Done by Python automatically.\n",
        "\n",
        "    ->  Happens when mixing data types in expressions.\n",
        "  \n",
        "    ->  No data loss, Python promotes to a compatible type.\n",
        "\n",
        "    Explicit Type Casting (Manual) :\n",
        "\n",
        "    ->  Done by the programmer manually\n",
        "\n",
        "    ->  Use built-in functions like int(), float(), str(), etc.\n",
        "\n",
        "    ->  May cause data loss or errors if not used carefully.\n",
        "\n",
        "11. What is the purpose of conditional statements in Python ?   \n",
        "\n",
        "    -> Conditional statements are used to make decisions in a Python program — they allow your code to execute certain blocks only when specific conditions are met.\n",
        "\n",
        "12. how does the elif statement work ?\n",
        "\n",
        "    -> The elif statement in Python stands for \"else if\" and is used when you want to check multiple conditions one after another.\n",
        "\n",
        "13. What is the difference between for and while loops ?\n",
        "\n",
        "    ->  for Loop :\n",
        "\n",
        "    ->  Used when: You know how many times you want to repeat the loop.\n",
        "\n",
        "    ->  Iterates over: A sequence like a list, tuple, string, or range.\n",
        "\n",
        "    ->  while Loop :\n",
        "     \n",
        "    ->  Used when: You want to repeat until a condition becomes False.\n",
        "\n",
        "    ->  You don't always know how many times the loop will run.\n",
        "\n",
        "14. Describe a scenario where a while loop is more suitable than a for loop ?\n",
        "\n",
        "    Use a while loop when:\n",
        "\n",
        "    ->  A condition needs to be repeatedly checked\n",
        "\n",
        "    ->  The number of iterations is not fixed\n",
        "\n",
        "    ->  Example cases: waiting for user input, reading sensor data, monitoring conditions in real time, etc.\n",
        "\n"
      ],
      "metadata": {
        "id": "A_N3k8hSO7vw"
      }
    },
    {
      "cell_type": "markdown",
      "source": [
        "Practical Questions"
      ],
      "metadata": {
        "id": "Cydy9p2mb10o"
      }
    },
    {
      "cell_type": "code",
      "source": [
        "'''1. Write a Python program to print \"Hello, World! '''\n",
        "\n",
        "print (\" Hello, World!\")"
      ],
      "metadata": {
        "colab": {
          "base_uri": "https://localhost:8080/"
        },
        "id": "uE_5V29ZZHQ-",
        "outputId": "cc5adcd9-ff63-44b5-e30b-dbabbf53957f"
      },
      "execution_count": 35,
      "outputs": [
        {
          "output_type": "stream",
          "name": "stdout",
          "text": [
            " Hello, World!\n"
          ]
        }
      ]
    },
    {
      "cell_type": "code",
      "source": [
        "'''2. Write a Python program that displays your name and age'''\n",
        "\n",
        "# Program to display name and age\n",
        "\n",
        "name = \"Chandan\"      # Replace with your name\n",
        "age = 25              # Replace with your age\n",
        "\n",
        "print(\"My name is\", name)\n",
        "print(\"I am\", age, \"years old.\")\n"
      ],
      "metadata": {
        "colab": {
          "base_uri": "https://localhost:8080/"
        },
        "id": "hmE4hvRoZwCT",
        "outputId": "472cc158-ea2a-498d-9794-93e798749ece"
      },
      "execution_count": 3,
      "outputs": [
        {
          "output_type": "stream",
          "name": "stdout",
          "text": [
            "My name is Chandan\n",
            "I am 25 years old.\n"
          ]
        }
      ]
    },
    {
      "cell_type": "code",
      "source": [
        "''' 3.Write code to print all the pre-defined keywords in Python using the keyword library ?'''\n",
        "\n",
        "# Import the keyword module\n",
        "import keyword\n",
        "\n",
        "# Get the list of all keywords\n",
        "keywords_list = keyword.kwlist\n",
        "\n",
        "# Print all keywords\n",
        "print(\"List of Python Keywords:\")\n",
        "for kw in keywords_list:\n",
        "    print(kw)\n"
      ],
      "metadata": {
        "colab": {
          "base_uri": "https://localhost:8080/"
        },
        "id": "fdqhw8twaXO9",
        "outputId": "1939f605-b5b7-465f-958c-49e0b6a886e2"
      },
      "execution_count": 4,
      "outputs": [
        {
          "output_type": "stream",
          "name": "stdout",
          "text": [
            "List of Python Keywords:\n",
            "False\n",
            "None\n",
            "True\n",
            "and\n",
            "as\n",
            "assert\n",
            "async\n",
            "await\n",
            "break\n",
            "class\n",
            "continue\n",
            "def\n",
            "del\n",
            "elif\n",
            "else\n",
            "except\n",
            "finally\n",
            "for\n",
            "from\n",
            "global\n",
            "if\n",
            "import\n",
            "in\n",
            "is\n",
            "lambda\n",
            "nonlocal\n",
            "not\n",
            "or\n",
            "pass\n",
            "raise\n",
            "return\n",
            "try\n",
            "while\n",
            "with\n",
            "yield\n"
          ]
        }
      ]
    },
    {
      "cell_type": "code",
      "source": [
        "'''4. Write a program that checks if a given word is a Python keyword.'''\n",
        "import keyword\n",
        "\n",
        "# Take input from the user\n",
        "word = input(\"Enter a word to check: \")\n",
        "\n",
        "# Check if the word is a Python keyword\n",
        "if keyword.iskeyword(word):\n",
        "    print(f\" '{word}' is a Python keyword.\")\n",
        "else:\n",
        "    print(f\" '{word}' is NOT a Python keyword.\")\n"
      ],
      "metadata": {
        "colab": {
          "base_uri": "https://localhost:8080/"
        },
        "id": "3uN9hZ9ka04O",
        "outputId": "ed24f4b6-1ce4-4842-d577-7cdb9bcb8fe1"
      },
      "execution_count": 5,
      "outputs": [
        {
          "output_type": "stream",
          "name": "stdout",
          "text": [
            "Enter a word to check: hello\n",
            "❌ 'hello' is NOT a Python keyword.\n"
          ]
        }
      ]
    },
    {
      "cell_type": "code",
      "source": [
        "'''5. Create a list and tuple in Python, and demonstrate how attempting to change an element works differently for each. '''\n",
        "# Create a list and a tuple\n",
        "my_list = [10, 20, 30]\n",
        "my_tuple = (10, 20, 30)\n",
        "\n",
        "# Modify an element in the list\n",
        "print(\"Original list:\", my_list)\n",
        "my_list[1] = 99\n",
        "print(\"Modified list:\", my_list)\n",
        "\n",
        "# Try to modify an element in the tuple\n",
        "print(\"\\nOriginal tuple:\", my_tuple)\n",
        "try:\n",
        "    my_tuple[1] = 99  # This will raise an error\n",
        "except TypeError as e:\n",
        "    print(\"Error:\", e)\n"
      ],
      "metadata": {
        "colab": {
          "base_uri": "https://localhost:8080/"
        },
        "id": "IZpSO6ozbYqe",
        "outputId": "200d3a50-a152-4fdd-eb45-d8a903deb440"
      },
      "execution_count": 6,
      "outputs": [
        {
          "output_type": "stream",
          "name": "stdout",
          "text": [
            "Original list: [10, 20, 30]\n",
            "Modified list: [10, 99, 30]\n",
            "\n",
            "Original tuple: (10, 20, 30)\n",
            "Error: 'tuple' object does not support item assignment\n"
          ]
        }
      ]
    },
    {
      "cell_type": "code",
      "source": [
        "''' 6. Write a function to demonstrate the behavior of mutable and immutable arguments.'''\n",
        "\n",
        "\n",
        "# Main part\n",
        "x = 5\n",
        "x_list = [1, 2, 3]\n",
        "\n",
        "print(\"Before function call:\")\n",
        "print(\"x =\", x)\n",
        "print(\"x_list =\", x_list)\n",
        "\n",
        "# Call the function\n",
        "modify_arguments(x, x_list)\n",
        "\n",
        "print(\"\\nAfter function call:\")\n",
        "print(\"x =\", x)            # Unchanged (immutable)\n",
        "print(\"x_list =\", x_list)  # Changed (mutable)\n"
      ],
      "metadata": {
        "colab": {
          "base_uri": "https://localhost:8080/"
        },
        "id": "sTfagKGQcAid",
        "outputId": "ed28ae5f-2299-4594-ec3a-d7546d82b608"
      },
      "execution_count": 8,
      "outputs": [
        {
          "output_type": "stream",
          "name": "stdout",
          "text": [
            "Before function call:\n",
            "x = 5\n",
            "x_list = [1, 2, 3]\n",
            "\n",
            "Inside function before modification:\n",
            "num = 5\n",
            "num_list = [1, 2, 3]\n",
            "\n",
            "Inside function after modification:\n",
            "num = 15\n",
            "num_list = [1, 2, 3, 100]\n",
            "\n",
            "After function call:\n",
            "x = 5\n",
            "x_list = [1, 2, 3, 100]\n"
          ]
        }
      ]
    },
    {
      "cell_type": "code",
      "source": [
        "'''7. Write a program that performs basic arithmetic operations on two user-input numbers. ? '''\n",
        "# Take input from the user\n",
        "num1 = (input(\"Enter the first number: \"))\n",
        "num2 = (input(\"Enter the second number: \"))\n",
        "\n",
        "# Display the results\n",
        "6\n",
        "print(f\"Addition: {num1} + {num2} = {addition}\")\n",
        "print(f\"Subtraction: {num1} - {num2} = {subtraction}\")\n",
        "print(f\"Multiplication: {num1} * {num2} = {multiplication}\")\n",
        "print(f\"Division: {num1} / {num2} = {division}\")\n"
      ],
      "metadata": {
        "colab": {
          "base_uri": "https://localhost:8080/"
        },
        "id": "Lxujl5PWcuub",
        "outputId": "8c05f39b-b133-44bc-c324-73464ebc66b9"
      },
      "execution_count": 11,
      "outputs": [
        {
          "output_type": "stream",
          "name": "stdout",
          "text": [
            "Enter the first number: 25\n",
            "Enter the second number: 36\n",
            "Addition: 25 + 36 = 55.0\n",
            "Subtraction: 25 - 36 = -5.0\n",
            "Multiplication: 25 * 36 = 750.0\n",
            "Division: 25 / 36 = 0.8333333333333334\n"
          ]
        }
      ]
    },
    {
      "cell_type": "code",
      "source": [
        "'''8. Write a program to demonstrate the use of logical operators.'''\n",
        "\n",
        "# Take user input\n",
        "age = int(input(\"Enter your age: \"))\n",
        "has_id = input(\"Do you have a valid ID? (yes/no): \").lower()\n",
        "\n",
        "# Convert input to boolean\n",
        "has_valid_id = has_id == \"yes\"\n",
        "\n",
        "# Using logical AND\n",
        "if age >= 18 and has_valid_id:\n",
        "    print(\" You are allowed to enter.\")\n",
        "else:\n",
        "    print(\" Access denied.\")\n",
        "\n",
        "# Using logical OR\n",
        "if age >= 18 or has_valid_id:\n",
        "    print(\"ℹ You meet at least one requirement.\")\n",
        "else:\n",
        "    print(\" You meet none of the requirements.\")\n",
        "\n",
        "# Using logical NOT\n",
        "if not has_valid_id:\n",
        "    print(\" Please bring a valid ID next time.\")\n"
      ],
      "metadata": {
        "colab": {
          "base_uri": "https://localhost:8080/"
        },
        "id": "_t2d62dXdrxa",
        "outputId": "4e7258b0-c742-41cd-a753-399a8af6c20d"
      },
      "execution_count": 25,
      "outputs": [
        {
          "output_type": "stream",
          "name": "stdout",
          "text": [
            "Enter your age: 32\n",
            "Do you have a valid ID? (yes/no): no\n",
            " Access denied.\n",
            "ℹ You meet at least one requirement.\n",
            " Please bring a valid ID next time.\n"
          ]
        }
      ]
    },
    {
      "cell_type": "code",
      "source": [
        "'''9. Write a Python program to convert user input from string to integer, float, and boolean types.'''\n",
        "\n",
        "# Take input from user\n",
        "user_input = input(\"Enter a value: \")\n",
        "\n",
        "# Convert to integer\n",
        "try:\n",
        "    int_value = int(user_input)\n",
        "    print(\" Integer:\", int_value)\n",
        "except ValueError:\n",
        "    print(\" Cannot convert to integer.\")\n",
        "\n",
        "# Convert to float\n",
        "try:\n",
        "    float_value = float(user_input)\n",
        "    print(\" Float:\", float_value)\n",
        "except ValueError:\n",
        "    print(\" Cannot convert to float.\")\n",
        "\n",
        "# Convert to boolean\n",
        "# Note: Only empty string, '0', and 'false' (case-insensitive) are treated as False\n",
        "bool_value = user_input.strip().lower() not in [\"\", \"0\", \"false\"]\n",
        "print(\" Boolean:\", bool_value)\n"
      ],
      "metadata": {
        "colab": {
          "base_uri": "https://localhost:8080/"
        },
        "id": "sAIRZ6cJeHDL",
        "outputId": "d9028123-b82b-4ae4-81c3-b902d9607d73"
      },
      "execution_count": 26,
      "outputs": [
        {
          "output_type": "stream",
          "name": "stdout",
          "text": [
            "Enter a value: 23\n",
            " Integer: 23\n",
            " Float: 23.0\n",
            " Boolean: True\n"
          ]
        }
      ]
    },
    {
      "cell_type": "code",
      "source": [
        "'''10. Write code to demonstrate type casting with list elements.'''\n",
        "\n",
        "# Original list of strings (e.g., from user input or a file)\n",
        "str_list = ['10', '20', '30', '40']\n",
        "\n",
        "print(\"Original list (strings):\", str_list)\n",
        "\n",
        "# Convert each element to integer using list comprehension\n",
        "int_list = [int(item) for item in str_list]\n",
        "print(\"List after casting to integers:\", int_list)\n",
        "\n",
        "# Convert each element to float\n",
        "float_list = [float(item) for item in str_list]\n",
        "print(\"List after casting to floats:\", float_list)\n",
        "\n",
        "# Convert each element to boolean\n",
        "bool_list = [bool(item) for item in str_list]\n",
        "print(\"List after casting to booleans:\", bool_list)\n",
        "\n"
      ],
      "metadata": {
        "colab": {
          "base_uri": "https://localhost:8080/"
        },
        "id": "SnU70Go2eszG",
        "outputId": "82633bb0-0b5d-4b35-f760-6d57153f42f1"
      },
      "execution_count": 15,
      "outputs": [
        {
          "output_type": "stream",
          "name": "stdout",
          "text": [
            "Original list (strings): ['10', '20', '30', '40']\n",
            "List after casting to integers: [10, 20, 30, 40]\n",
            "List after casting to floats: [10.0, 20.0, 30.0, 40.0]\n",
            "List after casting to booleans: [True, True, True, True]\n"
          ]
        }
      ]
    },
    {
      "cell_type": "code",
      "source": [
        "''' 11.Write a program that checks if a number is positive, negative, or zero. '''\n",
        "Num = int (input(\"enter the number\"))\n",
        "\n",
        "if  Num < 0 :\n",
        "    print (\"negative\")\n",
        "elif Num > 0 :\n",
        "    print (\"positive\")\n",
        "else :\n",
        "    print (\"zero\")"
      ],
      "metadata": {
        "colab": {
          "base_uri": "https://localhost:8080/"
        },
        "id": "nqVhG0iAfkLr",
        "outputId": "197b9305-88b0-47fc-c307-f3469b744b35"
      },
      "execution_count": 24,
      "outputs": [
        {
          "output_type": "stream",
          "name": "stdout",
          "text": [
            "enter the number2\n",
            "positive\n"
          ]
        }
      ]
    },
    {
      "cell_type": "code",
      "source": [
        "'''12. Write a for loop to print numbers from 1 to 10.'''\n",
        "\n",
        "for i in range (1,11):\n",
        "    print(i)"
      ],
      "metadata": {
        "colab": {
          "base_uri": "https://localhost:8080/"
        },
        "id": "dyePIfmHhcHu",
        "outputId": "5fa0ba0b-208c-4c00-cc09-13fd0f5ab43c"
      },
      "execution_count": 28,
      "outputs": [
        {
          "output_type": "stream",
          "name": "stdout",
          "text": [
            "1\n",
            "2\n",
            "3\n",
            "4\n",
            "5\n",
            "6\n",
            "7\n",
            "8\n",
            "9\n",
            "10\n"
          ]
        }
      ]
    },
    {
      "cell_type": "code",
      "source": [
        "'''13. Write a Python program to find the sum of all even numbers between 1 and 50.'''\n",
        "\n",
        "# Initialize sum\n",
        "even_sum = 0\n",
        "\n",
        "# Loop through numbers from 1 to 50\n",
        "for num in range(1, 51):\n",
        "    if num % 2 == 0:\n",
        "        even_sum += num\n",
        "\n",
        "# Display the result\n",
        "print(\"The sum of even numbers from 1 to 50 is:\", even_sum)\n"
      ],
      "metadata": {
        "colab": {
          "base_uri": "https://localhost:8080/"
        },
        "id": "8-Yh8qRoiH_h",
        "outputId": "7724f19f-6d8a-4639-81f8-14a89e9e317f"
      },
      "execution_count": 29,
      "outputs": [
        {
          "output_type": "stream",
          "name": "stdout",
          "text": [
            "The sum of even numbers from 1 to 50 is: 650\n"
          ]
        }
      ]
    },
    {
      "cell_type": "code",
      "source": [
        "'''14.Write a program to reverse a string using a while loop. '''\n",
        "# Take input from the user\n",
        "text = input(\"Enter a string: \")\n",
        "\n",
        "# Initialize variables\n",
        "reversed_text = \"\"\n",
        "index = len(text) - 1\n",
        "\n",
        "# Reverse the string using a while loop\n",
        "while index >= 0:\n",
        "    reversed_text += text[index]\n",
        "    index -= 1\n",
        "\n",
        "# Display the reversed string\n",
        "print(\"Reversed string:\", reversed_text)\n"
      ],
      "metadata": {
        "colab": {
          "base_uri": "https://localhost:8080/"
        },
        "id": "vY6LKNZeijXO",
        "outputId": "c1f92c29-a158-4e37-b903-2c89e2cc79d0"
      },
      "execution_count": 32,
      "outputs": [
        {
          "output_type": "stream",
          "name": "stdout",
          "text": [
            "Enter a string: 25\n",
            "Reversed string: 52\n"
          ]
        }
      ]
    },
    {
      "cell_type": "code",
      "source": [
        "'''15.Write a Python program to calculate the factorial of a number provided by the user using a while loop'''\n",
        "# Take input from the user\n",
        "num = int(input(\"Enter a non-negative integer: \"))\n",
        "\n",
        "# Check for valid input\n",
        "if num < 0:\n",
        "    print(\" Factorial is not defined for negative numbers.\")\n",
        "else:\n",
        "    factorial = 1\n",
        "    i = 1\n",
        "\n",
        "    # Calculate factorial using while loop\n",
        "    while i <= num:\n",
        "        factorial *= i\n",
        "        i += 1\n",
        "\n",
        "    # Display the result\n",
        "    print(f\" The factorial of {num} is: {factorial}\")\n"
      ],
      "metadata": {
        "colab": {
          "base_uri": "https://localhost:8080/"
        },
        "id": "U39gg9gkjDO2",
        "outputId": "ec729a8e-41f4-4b57-836d-ac7701f12a57"
      },
      "execution_count": 33,
      "outputs": [
        {
          "output_type": "stream",
          "name": "stdout",
          "text": [
            "Enter a non-negative integer: 25\n",
            " The factorial of 25 is: 15511210043330985984000000\n"
          ]
        }
      ]
    }
  ]
}