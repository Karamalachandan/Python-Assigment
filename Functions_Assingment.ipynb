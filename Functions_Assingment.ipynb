{
  "nbformat": 4,
  "nbformat_minor": 0,
  "metadata": {
    "colab": {
      "provenance": [],
      "authorship_tag": "ABX9TyMhG7PqScQQLdUnxx8GUqoQ",
      "include_colab_link": true
    },
    "kernelspec": {
      "name": "python3",
      "display_name": "Python 3"
    },
    "language_info": {
      "name": "python"
    }
  },
  "cells": [
    {
      "cell_type": "markdown",
      "metadata": {
        "id": "view-in-github",
        "colab_type": "text"
      },
      "source": [
        "<a href=\"https://colab.research.google.com/github/Karamalachandan/Python-Assigment/blob/main/Functions_Assingment.ipynb\" target=\"_parent\"><img src=\"https://colab.research.google.com/assets/colab-badge.svg\" alt=\"Open In Colab\"/></a>"
      ]
    },
    {
      "cell_type": "markdown",
      "source": [
        "### **1. What is the difference between a function and a method in Python?**\n",
        "\n",
        "* **Function**: A block of code that performs a specific task and is defined using `def`.\n",
        "* **Method**: A function that is associated with an object and is called on that object.\n",
        "\n",
        "**Example:**\n",
        "\n",
        "```python\n",
        "# Function\n",
        "def greet(name):\n",
        "    return \"Hello \" + name\n",
        "\n",
        "# Method\n",
        "name = \"Alice\"\n",
        "print(name.upper())  # upper() is a method of string objects\n",
        "```\n",
        "\n",
        "---\n",
        "\n",
        "### **2. Explain the concept of function arguments and parameters in Python.**\n",
        "\n",
        "* **Parameter**: The variable listed inside the parentheses in the function definition.\n",
        "* **Argument**: The actual value that you pass to the function when calling it.\n",
        "\n",
        "**Example:**\n",
        "\n",
        "```python\n",
        "def greet(name):  # name is a parameter\n",
        "    print(\"Hello\", name)\n",
        "\n",
        "greet(\"Bob\")  # \"Bob\" is the argument\n",
        "```\n",
        "\n",
        "---\n",
        "\n",
        "### **3. What are the different ways to define and call a function in Python?**\n",
        "\n",
        "* **Define** using `def` or `lambda`\n",
        "* **Call** by using the function name followed by parentheses and arguments\n",
        "\n",
        "**Examples:**\n",
        "\n",
        "```python\n",
        "# Normal function\n",
        "def add(x, y):\n",
        "    return x + y\n",
        "\n",
        "print(add(2, 3))\n",
        "\n",
        "# Lambda function\n",
        "square = lambda x: x * x\n",
        "print(square(4))\n",
        "```\n",
        "\n",
        "---\n",
        "\n",
        "### **4. What is the purpose of the `return` statement in a Python function?**\n",
        "\n",
        "The `return` statement is used to send a value back to the caller and exit the function.\n",
        "\n",
        "**Example:**\n",
        "\n",
        "```python\n",
        "def multiply(a, b):\n",
        "    return a * b\n",
        "\n",
        "result = multiply(3, 4)\n",
        "print(result)  # Output: 12\n",
        "```\n",
        "\n",
        "---\n",
        "\n",
        "### **5. What are iterators in Python and how do they differ from iterables?**\n",
        "\n",
        "* **Iterable**: Any object capable of returning its elements one at a time (like list, string, tuple).\n",
        "* **Iterator**: An object with a `__next__()` method to fetch next item, and `__iter__()` to get itself.\n",
        "\n",
        "**Example:**\n",
        "\n",
        "```python\n",
        "my_list = [1, 2, 3]         # Iterable\n",
        "my_iter = iter(my_list)     # Iterator\n",
        "\n",
        "print(next(my_iter))        # Output: 1\n",
        "```\n",
        "\n",
        "---\n",
        "\n",
        "### **6. Explain the concept of generators in Python and how they are defined.**\n",
        "\n",
        "Generators are functions that use the `yield` keyword to return a sequence of values lazily (one at a time).\n",
        "\n",
        "**Example:**\n",
        "\n",
        "```python\n",
        "def countdown(n):\n",
        "    while n > 0:\n",
        "        yield n\n",
        "        n -= 1\n",
        "\n",
        "for num in countdown(3):\n",
        "    print(num)\n",
        "```\n",
        "\n",
        "---\n",
        "\n",
        "### **7. What are the advantages of using generators over regular functions?**\n",
        "\n",
        "* **Memory efficient**: Do not store all values in memory\n",
        "* **Lazy evaluation**: Generate values on demand\n",
        "* **Faster for large datasets**\n",
        "\n",
        "**Example:**\n",
        "\n",
        "```python\n",
        "def squares(n):\n",
        "    for i in range(n):\n",
        "        yield i * i\n",
        "\n",
        "for s in squares(5):\n",
        "    print(s)\n",
        "```\n",
        "\n",
        "---\n",
        "\n",
        "### **8. What is a lambda function in Python and when is it typically used?**\n",
        "\n",
        "* A **lambda function** is an anonymous function defined using the `lambda` keyword.\n",
        "* Used for **short, one-time** functions, often with `map()`, `filter()`, etc.\n",
        "\n",
        "**Example:**\n",
        "\n",
        "```python\n",
        "add = lambda x, y: x + y\n",
        "print(add(5, 3))  # Output: 8\n",
        "```\n",
        "\n",
        "---\n",
        "\n",
        "### **9. Explain the purpose and usage of the `map()` function in Python.**\n",
        "\n",
        "* Applies a function to **each item** of an iterable and returns a map object.\n",
        "\n",
        "**Example:**\n",
        "\n",
        "```python\n",
        "nums = [1, 2, 3]\n",
        "squared = list(map(lambda x: x ** 2, nums))\n",
        "print(squared)  # Output: [1, 4, 9]\n",
        "```\n",
        "\n",
        "---\n",
        "\n",
        "### **10. What is the difference between `map()`, `reduce()`, and `filter()` functions in Python?**\n",
        "\n",
        "| Function   | Purpose                                              | Example                          |\n",
        "| ---------- | ---------------------------------------------------- | -------------------------------- |\n",
        "| `map()`    | Applies function to **each item**                    | `map(lambda x: x+1, list)`       |\n",
        "| `filter()` | Selects items that **meet condition**                | `filter(lambda x: x%2==0, list)` |\n",
        "| `reduce()` | **Reduces** list to single value (needs `functools`) | `reduce(lambda x, y: x+y, list)` |\n",
        "\n",
        "**Example:**\n",
        "\n",
        "```python\n",
        "from functools import reduce\n",
        "\n",
        "lst = [1, 2, 3, 4]\n",
        "print(list(map(lambda x: x*2, lst)))        # [2, 4, 6, 8]\n",
        "print(list(filter(lambda x: x%2 == 0, lst)))# [2, 4]\n",
        "print(reduce(lambda x, y: x + y, lst))      # 10\n",
        "```\n",
        "\n",
        "---\n",
        "\n",
        "### **11. Using pen & paper write the internal mechanism for sum operation using `reduce()` function on: `list = [47, 11, 42, 13]`**\n",
        "\n",
        "Let’s manually walk through it:\n",
        "\n",
        "**Expression:** `reduce(lambda x, y: x + y, [47, 11, 42, 13])`\n",
        "\n",
        "Step-by-step:\n",
        "\n",
        "* Step 1: `x = 47`, `y = 11` → `47 + 11 = 58`\n",
        "* Step 2: `x = 58`, `y = 42` → `58 + 42 = 100`\n",
        "* Step 3: `x = 100`, `y = 13` → `100 + 13 = 113`\n",
        "\n",
        "**Final Result: `113`**\n",
        "\n"
      ],
      "metadata": {
        "id": "nt_qioyT2sCg"
      }
    },
    {
      "cell_type": "code",
      "execution_count": 1,
      "metadata": {
        "colab": {
          "base_uri": "https://localhost:8080/"
        },
        "id": "Y_6i1tF12htZ",
        "outputId": "b973f6bc-f4fb-40a8-a778-127e4f1e4bbf"
      },
      "outputs": [
        {
          "output_type": "stream",
          "name": "stdout",
          "text": [
            "12\n"
          ]
        }
      ],
      "source": [
        "# 1. Function to return sum of even numbers in a list\n",
        "def sum_even(numbers):\n",
        "    return sum(num for num in numbers if num % 2 == 0)\n",
        "\n",
        "# Example\n",
        "print(sum_even([1, 2, 3, 4, 5, 6]))\n"
      ]
    },
    {
      "cell_type": "code",
      "source": [
        "# 2. Function to reverse a string\n",
        "def reverse_string(s):\n",
        "    return s[::-1]\n",
        "\n",
        "# Example\n",
        "print(reverse_string(\"Python\"))\n"
      ],
      "metadata": {
        "colab": {
          "base_uri": "https://localhost:8080/"
        },
        "id": "m8PBC3ft5nWM",
        "outputId": "272515a0-fdf1-4e8d-e394-b7bcdbfa628d"
      },
      "execution_count": 2,
      "outputs": [
        {
          "output_type": "stream",
          "name": "stdout",
          "text": [
            "nohtyP\n"
          ]
        }
      ]
    },
    {
      "cell_type": "code",
      "source": [
        "# 3. Function to return squares of each number in a list\n",
        "def square_list(numbers):\n",
        "    return [x ** 2 for x in numbers]\n",
        "\n",
        "# Example\n",
        "print(square_list([1, 2, 3, 4]))  # Output: [1, 4, 9, 16]\n"
      ],
      "metadata": {
        "colab": {
          "base_uri": "https://localhost:8080/"
        },
        "id": "jEGCK8PN50AA",
        "outputId": "39266b43-f1f4-4be7-ad8b-464a6b694517"
      },
      "execution_count": 3,
      "outputs": [
        {
          "output_type": "stream",
          "name": "stdout",
          "text": [
            "[1, 4, 9, 16]\n"
          ]
        }
      ]
    },
    {
      "cell_type": "code",
      "source": [
        "# 4. Function to check if a number (1 to 200) is prime\n",
        "def is_prime(n):\n",
        "    if n < 2:\n",
        "        return False\n",
        "    for i in range(2, int(n**0.5)+1):\n",
        "        if n % i == 0:\n",
        "            return False\n",
        "    return True\n",
        "\n",
        "# Example\n",
        "for i in range(1, 201):\n",
        "    if is_prime(i):\n",
        "        print(i, end=\" \")\n",
        "\n"
      ],
      "metadata": {
        "colab": {
          "base_uri": "https://localhost:8080/"
        },
        "id": "w8MTyVmd58Ui",
        "outputId": "d88a50a1-e9a5-4e24-d26b-389059e5e6c5"
      },
      "execution_count": 4,
      "outputs": [
        {
          "output_type": "stream",
          "name": "stdout",
          "text": [
            "2 3 5 7 11 13 17 19 23 29 31 37 41 43 47 53 59 61 67 71 73 79 83 89 97 101 103 107 109 113 127 131 137 139 149 151 157 163 167 173 179 181 191 193 197 199 "
          ]
        }
      ]
    },
    {
      "cell_type": "code",
      "source": [
        "# 5. Iterator class for Fibonacci sequence\n",
        "class Fibonacci:\n",
        "    def __init__(self, n_terms):\n",
        "        self.n_terms = n_terms\n",
        "        self.a, self.b = 0, 1\n",
        "        self.count = 0\n",
        "\n",
        "    def __iter__(self):\n",
        "        return self\n",
        "\n",
        "    def __next__(self):\n",
        "        if self.count >= self.n_terms:\n",
        "            raise StopIteration\n",
        "        self.a, self.b = self.b, self.a + self.b\n",
        "        self.count += 1\n",
        "        return self.a\n",
        "\n",
        "# Example\n",
        "for num in Fibonacci(10):\n",
        "    print(num, end=\" \")\n"
      ],
      "metadata": {
        "colab": {
          "base_uri": "https://localhost:8080/"
        },
        "id": "_sxshvek6E1U",
        "outputId": "c8537be9-1897-4592-812d-d76aa35e47ad"
      },
      "execution_count": 5,
      "outputs": [
        {
          "output_type": "stream",
          "name": "stdout",
          "text": [
            "1 1 2 3 5 8 13 21 34 55 "
          ]
        }
      ]
    },
    {
      "cell_type": "code",
      "source": [
        "# 6. Generator function for powers of 2\n",
        "def powers_of_2(n):\n",
        "    for i in range(n):\n",
        "        yield 2 ** i\n",
        "\n",
        "# Example\n",
        "for power in powers_of_2(5):\n",
        "    print(power, end=\" \")"
      ],
      "metadata": {
        "colab": {
          "base_uri": "https://localhost:8080/"
        },
        "id": "qfh4wIrs6Qf6",
        "outputId": "c52df775-aa5a-4732-9a42-79c3cec9d092"
      },
      "execution_count": 6,
      "outputs": [
        {
          "output_type": "stream",
          "name": "stdout",
          "text": [
            "1 2 4 8 16 "
          ]
        }
      ]
    },
    {
      "cell_type": "code",
      "source": [
        "# 7. Generator to read file line by line\n",
        "def read_lines(filename):\n",
        "    with open(filename, 'r') as file:\n",
        "        for line in file:\n",
        "            yield line.strip()\n"
      ],
      "metadata": {
        "id": "wlnBMHM66Z2j"
      },
      "execution_count": 13,
      "outputs": []
    },
    {
      "cell_type": "code",
      "metadata": {
        "colab": {
          "base_uri": "https://localhost:8080/"
        },
        "id": "fc9172ce",
        "outputId": "ea5ab167-b0e7-4ef0-8c96-d9af7f79e6cd"
      },
      "source": [
        "for line in read_lines('sample.txt'):\n",
        "    print(line)"
      ],
      "execution_count": 14,
      "outputs": [
        {
          "output_type": "stream",
          "name": "stdout",
          "text": [
            "This is line 1\n",
            "This is line 2\n",
            "This is line 3\n"
          ]
        }
      ]
    },
    {
      "cell_type": "code",
      "source": [
        "#8. Lambda function to sort list of tuples by second element\n",
        "data = [('apple', 3), ('banana', 1), ('cherry', 2)]\n",
        "sorted_data = sorted(data, key=lambda x: x[1])\n",
        "print(sorted_data)"
      ],
      "metadata": {
        "colab": {
          "base_uri": "https://localhost:8080/"
        },
        "id": "1VYKbzeU7Jdu",
        "outputId": "5124c3d7-cbd8-44c3-de36-1be762d34e58"
      },
      "execution_count": 15,
      "outputs": [
        {
          "output_type": "stream",
          "name": "stdout",
          "text": [
            "[('banana', 1), ('cherry', 2), ('apple', 3)]\n"
          ]
        }
      ]
    },
    {
      "cell_type": "code",
      "source": [
        "# 9. Use map() to convert Celsius to Fahrenheit\n",
        "celsius_temps = [0, 10, 20, 30]\n",
        "fahrenheit_temps = list(map(lambda c: (c * 9/5) + 32, celsius_temps))\n",
        "print(fahrenheit_temps)"
      ],
      "metadata": {
        "colab": {
          "base_uri": "https://localhost:8080/"
        },
        "id": "NwxSVFNf7QiJ",
        "outputId": "6e5656f1-1a18-40dc-ae12-faef4ce38944"
      },
      "execution_count": 16,
      "outputs": [
        {
          "output_type": "stream",
          "name": "stdout",
          "text": [
            "[32.0, 50.0, 68.0, 86.0]\n"
          ]
        }
      ]
    },
    {
      "cell_type": "code",
      "source": [
        "# 10. Use filter() to remove vowels from a string\n",
        "vowels = ['a', 'e', 'i', 'o', 'u']\n",
        "string = \"Hello, World!\"\n",
        "filtered_string = ''.join(filter(lambda x: x.lower() not in vowels, string))\n",
        "print(filtered_string)\n"
      ],
      "metadata": {
        "colab": {
          "base_uri": "https://localhost:8080/"
        },
        "id": "6VHpN2gQ7W-c",
        "outputId": "62a44742-0b8e-4332-d0e0-8b70ffd7d519"
      },
      "execution_count": 17,
      "outputs": [
        {
          "output_type": "stream",
          "name": "stdout",
          "text": [
            "Hll, Wrld!\n"
          ]
        }
      ]
    },
    {
      "cell_type": "code",
      "source": [
        " # 11) Imagine an accounting routine used in a book shop. It works on a list with sublists, which look like this: Write a Python program, which returns a list with 2-tuples. Each tuple consists of the order number and the product of the price per item and the quantity. The product should be increased by 10,- € if the value of the order is smaller than 100,00 €. Write a Python program using lambda and map.\n",
        "orders = [\n",
        "    [34587, \"Learning Python, Mark Lutz\", 4, 40.95],\n",
        "    [98762, \"Programming Python, Mark Lutz\", 5, 56.80],\n",
        "    [77226, \"Head First Python, Paul Barry\", 3, 32.95],\n",
        "    [88112, \"Einfuhrung in Python3, Bernd Klein\", 3, 24.99]\n",
        "]\n",
        "\n",
        "# Map to create the required list of tuples with condition\n",
        "invoice = list(map(\n",
        "    lambda order: (order[0], round(order[2]*order[3] + (10 if order[2]*order[3] < 100 else 0), 2)),\n",
        "    orders\n",
        "))\n",
        "\n",
        "print(invoice)\n"
      ],
      "metadata": {
        "colab": {
          "base_uri": "https://localhost:8080/"
        },
        "id": "cn7sYM4H-dED",
        "outputId": "8922c198-1032-41e2-f9d1-a5b5cccc9dbc"
      },
      "execution_count": 20,
      "outputs": [
        {
          "output_type": "stream",
          "name": "stdout",
          "text": [
            "[(34587, 163.8), (98762, 284.0), (77226, 108.85), (88112, 84.97)]\n"
          ]
        }
      ]
    }
  ]
}